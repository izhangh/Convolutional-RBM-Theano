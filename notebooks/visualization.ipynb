{
 "cells": [
  {
   "cell_type": "markdown",
   "metadata": {},
   "source": [
    "# Visualization\n",
    "In this notebook, we're going to explore what the model we have trained actually learned.\n",
    "This involves some of the following things:\n",
    "* **Verify that we actually get better while learning**\n",
    "* **Look at the motifs we learn**\n",
    "* What does the hidden layer tell us about the model"
   ]
  },
  {
   "cell_type": "code",
   "execution_count": 1,
   "metadata": {
    "collapsed": false
   },
   "outputs": [
    {
     "name": "stderr",
     "output_type": "stream",
     "text": [
      "ERROR (theano.sandbox.cuda): Failed to compile cuda_ndarray.cu: libcublas.so.7.0: cannot open shared object file: No such file or directory\n",
      "ERROR:theano.sandbox.cuda:Failed to compile cuda_ndarray.cu: libcublas.so.7.0: cannot open shared object file: No such file or directory\n",
      "WARNING (theano.sandbox.cuda): CUDA is installed, but device gpu is not available  (error: cuda unavilable)\n",
      "WARNING:theano.sandbox.cuda:CUDA is installed, but device gpu is not available  (error: cuda unavilable)\n"
     ]
    },
    {
     "name": "stdout",
     "output_type": "stream",
     "text": [
      "Couldn't import dot_parser, loading of dot files will not be possible.\n"
     ]
    }
   ],
   "source": [
    "# some always important inputs\n",
    "import sys\n",
    "import os\n",
    "import random\n",
    "import time\n",
    "import numpy as np\n",
    "import cPickle\n",
    "#import PIL\n",
    "\n",
    "# the underlying convRBM implementation\n",
    "sys.path.append(os.path.abspath('../code'))\n",
    "from convRBM import CRBM\n",
    "import getData as dataRead\n",
    "\n",
    "# plotting and data handling\n",
    "import matplotlib.pyplot as plt\n",
    "from sklearn.cross_validation import train_test_split\n",
    "\n",
    "# the biopython stuff\n",
    "import Bio.SeqIO as sio\n",
    "import Bio.motifs.matrix as mat\n",
    "from Bio.Alphabet import IUPAC\n",
    "from Bio.Seq import Seq\n",
    "from Bio import motifs as mot"
   ]
  },
  {
   "cell_type": "markdown",
   "metadata": {},
   "source": [
    "## Read in the data and a previously trained model\n",
    "This part of the notebook trains a convolutional RBM on the DHS data. This may take a lot of time but only once we trained it, will it be possible to do the visualization of what the model learnt."
   ]
  },
  {
   "cell_type": "code",
   "execution_count": 2,
   "metadata": {
    "collapsed": false
   },
   "outputs": [
    {
     "name": "stdout",
     "output_type": "stream",
     "text": [
      "/home/sasse/ConvolutionalRBM/notebooks\n"
     ]
    }
   ],
   "source": [
    "# read in the model\n",
    "print os.getcwd()\n",
    "learner = CRBM(file_name='../code/models/trainedModel_2016_01_19_18_42.pkl.zip')"
   ]
  },
  {
   "cell_type": "code",
   "execution_count": 3,
   "metadata": {
    "collapsed": false
   },
   "outputs": [
    {
     "name": "stdout",
     "output_type": "stream",
     "text": [
      "[[[ 0.04918326 -0.32120562 -1.10284591 -0.53361011  0.35052255  0.35646319\n",
      "   -1.06514406  0.56772792  1.52398145]\n",
      "  [ 0.7236135   1.78293872  1.56473255  0.00804297  1.43115532  0.6812247\n",
      "    0.79523093  1.72713494 -0.81963223]\n",
      "  [-0.07839292  1.42034292  0.04688607  0.99685663  1.03838348 -0.67912745\n",
      "    1.00209916 -1.46065879  0.36329684]\n",
      "  [ 1.30040765  0.00278098  1.17192209  1.41627991 -0.68514997  1.69636905\n",
      "    1.56882477  1.87927997  1.01025581]]]\n"
     ]
    }
   ],
   "source": [
    "print learner.motifs.get_value()[0]"
   ]
  },
  {
   "cell_type": "markdown",
   "metadata": {},
   "source": [
    "### Some basic funcions to get motifs from the matrices"
   ]
  },
  {
   "cell_type": "code",
   "execution_count": 4,
   "metadata": {
    "collapsed": true
   },
   "outputs": [],
   "source": [
    "def getLetterToInt (num):\n",
    "    if num == 0:\n",
    "        return 'A'\n",
    "    elif num == 1:\n",
    "        return 'C'\n",
    "    elif num == 2:\n",
    "        return 'G'\n",
    "    elif num == 3:\n",
    "        return 'T'\n",
    "    else:\n",
    "        print 'ERROR: Num ' + str(num) + \" not a valid char in DNA alphabet\"\n",
    "        return -1\n",
    "\n",
    "def createMotifFromMatrix (matrix, alphabet=IUPAC.unambiguous_dna):\n",
    "    assert matrix.shape[0] == 4\n",
    "    \n",
    "    # transform the matrix such that the log odds are taken away\n",
    "    # matrix_ij = log(foreground/background) <=> log(foreground) - log(background)\n",
    "    psm = matrix + np.log(0.25) # 0.25 if we treat all letters as equally probable\n",
    "    psm = np.exp(psm)\n",
    "    psm = psm / psm.sum(axis=1, keepdims=True)\n",
    "    \n",
    "    # make this matrix a valid motif\n",
    "    counts = {}\n",
    "    for row in range(4):\n",
    "        counts[getLetterToInt(row)] = (psm[row]).tolist()\n",
    "    motif = mot.Motif(alphabet=alphabet, instances=None, counts=counts)\n",
    "    return motif\n",
    "\n",
    "\n",
    "def weblogo(motif, fname, file_format=\"png_print\", version=\"2.8.2\", **kwds): \n",
    "    from Bio._py3k import urlopen, urlencode, Request \n",
    "    frequencies = motif.format('transfac') \n",
    "    url = 'http://weblogo.threeplusone.com/create.cgi' \n",
    "    values = {'sequences': frequencies, \n",
    "                    'format': file_format.lower(), \n",
    "                    'stack_width': 'medium', \n",
    "                    'stack_per_line': '40', \n",
    "                    'alphabet': 'alphabet_dna', \n",
    "                    'ignore_lower_case': True, \n",
    "                    'unit_name': \"bits\", \n",
    "                    'first_index': '1', \n",
    "                    'logo_start': '1', \n",
    "                    'logo_end': str(motif.length), \n",
    "                    'composition': \"comp_auto\", \n",
    "                    'percentCG': '', \n",
    "                    'scale_width': True, \n",
    "                    'show_errorbars': False, \n",
    "                    'logo_title': '', \n",
    "                    'logo_label': '', \n",
    "                    'show_xaxis': False, \n",
    "                    'xaxis_label': '', \n",
    "                    'show_yaxis': False, \n",
    "                    'yaxis_label': '', \n",
    "                    'yaxis_scale': 'auto', \n",
    "                    'yaxis_tic_interval': '1.0', \n",
    "                    'show_ends': False, \n",
    "                    'show_fineprint': False, \n",
    "                    'color_scheme': 'color_auto', \n",
    "                    'symbols0': '', \n",
    "                    'symbols1': '', \n",
    "                    'symbols2': '', \n",
    "                    'symbols3': '', \n",
    "                    'symbols4': '', \n",
    "                    'color0': '', \n",
    "                    'color1': '', \n",
    "                    'color2': '', \n",
    "                    'color3': '', \n",
    "                    'color4': '', \n",
    "                    } \n",
    "    values.update(dict((k, \"\" if v is False else str(v)) for k, v in kwds.items()))\n",
    "    data = urlencode(values).encode(\"utf-8\")\n",
    "    req = Request(url, data)\n",
    "    response = urlopen(req)\n",
    "    return response\n",
    "\n",
    "\n",
    "def getLogoListFrom4DMatrix(matrix):\n",
    "    images = []\n",
    "    for motifNum in range(matrix.shape[0]):\n",
    "        m = createMotifFromMatrix(matrix[motifNum,0])\n",
    "        reader = weblogo(m, 'sub')\n",
    "        images.append(plt.imread(reader))\n",
    "    return images\n",
    "\n",
    "import math\n",
    "bestSplit = lambda x: (round(math.sqrt(x)), math.ceil(x / round(math.sqrt(x))))"
   ]
  },
  {
   "cell_type": "code",
   "execution_count": 5,
   "metadata": {
    "collapsed": false
   },
   "outputs": [],
   "source": [
    "# first, get the motifs into single 2D matrices within a list\n",
    "motifs = []\n",
    "M = learner.motifs.get_value()\n",
    "for i in range(0, M.shape[0], 2): # only add positive strands...\n",
    "    motifs.append(M[i,0]) # second dim is 1, so just make it 2D\n",
    "    "
   ]
  },
  {
   "cell_type": "markdown",
   "metadata": {},
   "source": [
    "### To save time and network data, create the images here and plot them later"
   ]
  },
  {
   "cell_type": "code",
   "execution_count": 19,
   "metadata": {
    "collapsed": false
   },
   "outputs": [],
   "source": [
    "images = []\n",
    "for motif in motifs:\n",
    "    m = createMotifFromMatrix(motif)\n",
    "    reader = weblogo(m, 'sub')\n",
    "    images.append(plt.imread(reader))\n",
    "\n",
    "import math\n",
    "bestSplit = lambda x: (round(math.sqrt(x)), math.ceil(x / round(math.sqrt(x))))"
   ]
  },
  {
   "cell_type": "code",
   "execution_count": 20,
   "metadata": {
    "collapsed": false
   },
   "outputs": [],
   "source": [
    "count = 1\n",
    "x, y = bestSplit(len(motifs))\n",
    "fig = plt.figure(figsize=(30,13))\n",
    "fig.subplots_adjust(left=0, right=1, bottom=0, top=1, hspace=0, wspace=0)\n",
    "for motif in motifs:\n",
    "    ax = fig.add_subplot(x, y, count, xticks=[], yticks=[])\n",
    "    ax.imshow(images[count-1])\n",
    "    count += 1\n",
    "\n",
    "plt.show()"
   ]
  },
  {
   "cell_type": "code",
   "execution_count": 6,
   "metadata": {
    "collapsed": false
   },
   "outputs": [
    {
     "name": "stdout",
     "output_type": "stream",
     "text": [
      "{'learning_rate': 1e-05,\n",
      " 'motif_length': 9,\n",
      " 'number_of_motifs': 10,\n",
      " 'pooling_factor': 2}\n",
      "21\n"
     ]
    }
   ],
   "source": [
    "learner.printHyperParams()\n",
    "print len(learner.observers[2].scores)"
   ]
  },
  {
   "cell_type": "markdown",
   "metadata": {
    "collapsed": true
   },
   "source": [
    "## Make a video from the motifs in which we have a subplot of all motifs per frame!\n",
    "For that, we have to find out how we can simply get the image without writing it to disk first.\n",
    "Then, we can use python multimedia capabilities for some nice plotting!"
   ]
  },
  {
   "cell_type": "code",
   "execution_count": null,
   "metadata": {
    "collapsed": false
   },
   "outputs": [],
   "source": [
    "# get the logos for all scores during training\n",
    "logosOverTime = []\n",
    "for timeSlice in range(len(learner.observers[2].scores)):\n",
    "    allMotifsPerSlice = learner.observers[2].scores[timeSlice]\n",
    "    logosOverTime.append(getLogoListFrom4DMatrix(allMotifsPerSlice))\n",
    "    print \"Got Logos for Time/Epoch \" + str(timeSlice)"
   ]
  },
  {
   "cell_type": "code",
   "execution_count": 8,
   "metadata": {
    "collapsed": false
   },
   "outputs": [
    {
     "name": "stdout",
     "output_type": "stream",
     "text": [
      "(20, 1, 4, 9)\n",
      "4.0 5.0\n"
     ]
    }
   ],
   "source": [
    "from matplotlib import animation\n",
    "\n",
    "fig = plt.figure(figsize=(30,13))\n",
    "fig.subplots_adjust(left=0, right=1, bottom=0, top=1, hspace=0, wspace=0)\n",
    "\n",
    "allMotifsOverTime = learner.observers[2].scores\n",
    "print allMotifsOverTime[0].shape\n",
    "\n",
    "x, y = bestSplit(allMotifsOverTime[0].shape[0])\n",
    "print x, y\n",
    "\n",
    "def printFrame(frameNr):\n",
    "    numMotifs = allMotifsOverTime[frameNr].shape[0]\n",
    "    for motif in range(numMotifs):\n",
    "        ax = fig.add_subplot(x, y, motif+1, xticks=[], yticks=[])\n",
    "        ax.imshow(logosOverTime[frameNr][motif])\n",
    "\n",
    "anim = animation.FuncAnimation(fig,\n",
    "                               printFrame,\n",
    "                               init_func=None,\n",
    "                               frames=len(learner.observers[2].scores),\n",
    "                               interval=100, repeat=True)\n",
    "#anim.save('test.mp4', fps=30, extra_args=['-vcodec', 'libx264'])\n",
    "plt.show()"
   ]
  },
  {
   "cell_type": "code",
   "execution_count": null,
   "metadata": {
    "collapsed": false
   },
   "outputs": [],
   "source": []
  },
  {
   "cell_type": "code",
   "execution_count": null,
   "metadata": {
    "collapsed": true
   },
   "outputs": [],
   "source": []
  }
 ],
 "metadata": {
  "kernelspec": {
   "display_name": "Python 2",
   "language": "python",
   "name": "python2"
  },
  "language_info": {
   "codemirror_mode": {
    "name": "ipython",
    "version": 2
   },
   "file_extension": ".py",
   "mimetype": "text/x-python",
   "name": "python",
   "nbconvert_exporter": "python",
   "pygments_lexer": "ipython2",
   "version": "2.7.10"
  }
 },
 "nbformat": 4,
 "nbformat_minor": 0
}
