{
 "cells": [
  {
   "cell_type": "markdown",
   "metadata": {},
   "source": [
    "# Visualization\n",
    "In this notebook, we're going to explore what the model we have trained actually learned.\n",
    "This involves some of the following things:\n",
    "* **Verify that we actually get better while learning**\n",
    "* **Look at the motifs we learn**\n",
    "* What does the hidden layer tell us about the model"
   ]
  },
  {
   "cell_type": "code",
   "execution_count": 1,
   "metadata": {
    "collapsed": false
   },
   "outputs": [
    {
     "name": "stderr",
     "output_type": "stream",
     "text": [
      "ERROR (theano.sandbox.cuda): Failed to compile cuda_ndarray.cu: libcublas.so.7.0: cannot open shared object file: No such file or directory\n",
      "ERROR:theano.sandbox.cuda:Failed to compile cuda_ndarray.cu: libcublas.so.7.0: cannot open shared object file: No such file or directory\n",
      "WARNING (theano.sandbox.cuda): CUDA is installed, but device gpu is not available  (error: cuda unavilable)\n",
      "WARNING:theano.sandbox.cuda:CUDA is installed, but device gpu is not available  (error: cuda unavilable)\n"
     ]
    },
    {
     "name": "stdout",
     "output_type": "stream",
     "text": [
      "Couldn't import dot_parser, loading of dot files will not be possible.\n"
     ]
    }
   ],
   "source": [
    "# some always important inputs\n",
    "import sys\n",
    "import os\n",
    "import random\n",
    "import time\n",
    "import numpy as np\n",
    "import cPickle\n",
    "#import PIL\n",
    "\n",
    "# the underlying convRBM implementation\n",
    "sys.path.append(os.path.abspath('../code'))\n",
    "from convRBM import CRBM\n",
    "import getData as dataRead\n",
    "\n",
    "# plotting and data handling\n",
    "import matplotlib.pyplot as plt\n",
    "from sklearn.cross_validation import train_test_split\n",
    "\n",
    "# the biopython stuff\n",
    "import Bio.SeqIO as sio\n",
    "import Bio.motifs.matrix as mat\n",
    "from Bio.Alphabet import IUPAC\n",
    "from Bio.Seq import Seq\n",
    "from Bio import motifs as mot"
   ]
  },
  {
   "cell_type": "markdown",
   "metadata": {},
   "source": [
    "## Read in the data and a previously trained model\n",
    "This part of the notebook trains a convolutional RBM on the DHS data. This may take a lot of time but only once we trained it, will it be possible to do the visualization of what the model learnt."
   ]
  },
  {
   "cell_type": "code",
   "execution_count": 41,
   "metadata": {
    "collapsed": false
   },
   "outputs": [
    {
     "name": "stdout",
     "output_type": "stream",
     "text": [
      "/home/sasse/ConvolutionalRBM/notebooks\n"
     ]
    }
   ],
   "source": [
    "# read in the model\n",
    "print os.getcwd()\n",
    "learner = CRBM(file_name='../code/models/trainedModel_2016_01_19_21_14.pkl.zip')"
   ]
  },
  {
   "cell_type": "code",
   "execution_count": 42,
   "metadata": {
    "collapsed": false
   },
   "outputs": [
    {
     "name": "stdout",
     "output_type": "stream",
     "text": [
      "[[[  2.59079504   8.49507427  -3.28566861   1.23031938   6.22331429\n",
      "    19.63610268  -7.90899849   1.73747241   1.43561792  -6.76441908\n",
      "    -4.21530676]\n",
      "  [ -2.65825582  -7.70950317  -3.48884034  -4.39063311   0.42964321\n",
      "    -7.70176744  -3.95686936   9.3034153    3.77825189  -0.95508349\n",
      "    -6.74089193]\n",
      "  [  4.59712934   0.39820194   4.45799112   1.87005711   0.87771493\n",
      "    -4.64380121  16.73946381  -3.26769018   0.46474501   3.77548814\n",
      "    21.32040977]\n",
      "  [ -1.34759331   1.69751203   2.97114563   2.62391734  -4.67391348\n",
      "    -4.71906281  -2.32828784  -4.2887845   -2.58154058   7.43719959\n",
      "    -7.88330364]]]\n"
     ]
    }
   ],
   "source": [
    "print learner.motifs.get_value()[0]"
   ]
  },
  {
   "cell_type": "markdown",
   "metadata": {},
   "source": [
    "### Some basic funcions to get motifs from the matrices"
   ]
  },
  {
   "cell_type": "code",
   "execution_count": 43,
   "metadata": {
    "collapsed": true
   },
   "outputs": [],
   "source": [
    "def getLetterToInt (num):\n",
    "    if num == 0:\n",
    "        return 'A'\n",
    "    elif num == 1:\n",
    "        return 'C'\n",
    "    elif num == 2:\n",
    "        return 'G'\n",
    "    elif num == 3:\n",
    "        return 'T'\n",
    "    else:\n",
    "        print 'ERROR: Num ' + str(num) + \" not a valid char in DNA alphabet\"\n",
    "        return -1\n",
    "\n",
    "def createMotifFromMatrix (matrix, alphabet=IUPAC.unambiguous_dna):\n",
    "    assert matrix.shape[0] == 4\n",
    "    \n",
    "    # transform the matrix such that the log odds are taken away\n",
    "    # matrix_ij = log(foreground/background) <=> log(foreground) - log(background)\n",
    "    psm = matrix + np.log(0.25) # 0.25 if we treat all letters as equally probable\n",
    "    psm = np.exp(psm)\n",
    "    psm = psm / psm.sum(axis=1, keepdims=True)\n",
    "    \n",
    "    # make this matrix a valid motif\n",
    "    counts = {}\n",
    "    for row in range(4):\n",
    "        counts[getLetterToInt(row)] = (psm[row]).tolist()\n",
    "    motif = mot.Motif(alphabet=alphabet, instances=None, counts=counts)\n",
    "    return motif\n",
    "\n",
    "\n",
    "def weblogo(motif, file_format=\"png\", version=\"2.8.2\", **kwds): \n",
    "    from Bio._py3k import urlopen, urlencode, Request \n",
    "    frequencies = motif.format('transfac') \n",
    "    url = 'http://weblogo.threeplusone.com/create.cgi' \n",
    "    values = {'sequences': frequencies, \n",
    "                    'format': file_format.lower(), \n",
    "                    'stack_width': 'medium', \n",
    "                    'stack_per_line': '40', \n",
    "                    'alphabet': 'alphabet_dna', \n",
    "                    'ignore_lower_case': True, \n",
    "                    'unit_name': \"bits\", \n",
    "                    'first_index': '1', \n",
    "                    'logo_start': '1', \n",
    "                    'logo_end': str(motif.length), \n",
    "                    'composition': \"comp_auto\", \n",
    "                    'percentCG': '', \n",
    "                    'scale_width': True, \n",
    "                    'show_errorbars': False, \n",
    "                    'logo_title': '', \n",
    "                    'logo_label': '', \n",
    "                    'show_xaxis': False, \n",
    "                    'xaxis_label': '', \n",
    "                    'show_yaxis': False, \n",
    "                    'yaxis_label': '', \n",
    "                    'yaxis_scale': 'auto', \n",
    "                    'yaxis_tic_interval': '1.0', \n",
    "                    'show_ends': False, \n",
    "                    'show_fineprint': False, \n",
    "                    'color_scheme': 'color_auto', \n",
    "                    'symbols0': '', \n",
    "                    'symbols1': '', \n",
    "                    'symbols2': '', \n",
    "                    'symbols3': '', \n",
    "                    'symbols4': '', \n",
    "                    'color0': '', \n",
    "                    'color1': '', \n",
    "                    'color2': '', \n",
    "                    'color3': '', \n",
    "                    'color4': '', \n",
    "                    } \n",
    "    values.update(dict((k, \"\" if v is False else str(v)) for k, v in kwds.items()))\n",
    "    data = urlencode(values).encode(\"utf-8\")\n",
    "    req = Request(url, data)\n",
    "    response = urlopen(req)\n",
    "    return response\n",
    "\n",
    "\n",
    "def getLogoListFrom4DMatrix(matrix):\n",
    "    images = []\n",
    "    for motifNum in range(matrix.shape[0]):\n",
    "        m = createMotifFromMatrix(matrix[motifNum,0])\n",
    "        reader = weblogo(m)\n",
    "        images.append(plt.imread(reader))\n",
    "    return images\n",
    "\n",
    "import math\n",
    "bestSplit = lambda x: (round(math.sqrt(x)), math.ceil(x / round(math.sqrt(x))))"
   ]
  },
  {
   "cell_type": "code",
   "execution_count": 44,
   "metadata": {
    "collapsed": false
   },
   "outputs": [],
   "source": [
    "# first, get the motifs into single 2D matrices within a list\n",
    "motifs = []\n",
    "M = learner.motifs.get_value()\n",
    "for i in range(0, M.shape[0], 2): # only add positive strands...\n",
    "    motifs.append(M[i,0]) # second dim is 1, so just make it 2D\n",
    "    "
   ]
  },
  {
   "cell_type": "markdown",
   "metadata": {},
   "source": [
    "### To save time and network data, create the images here and plot them later"
   ]
  },
  {
   "cell_type": "code",
   "execution_count": 19,
   "metadata": {
    "collapsed": false
   },
   "outputs": [],
   "source": [
    "images = []\n",
    "for motif in motifs:\n",
    "    m = createMotifFromMatrix(motif)\n",
    "    reader = weblogo(m, 'sub')\n",
    "    images.append(plt.imread(reader))\n",
    "\n",
    "import math\n",
    "bestSplit = lambda x: (round(math.sqrt(x)), math.ceil(x / round(math.sqrt(x))))"
   ]
  },
  {
   "cell_type": "code",
   "execution_count": 20,
   "metadata": {
    "collapsed": false
   },
   "outputs": [],
   "source": [
    "count = 1\n",
    "x, y = bestSplit(len(motifs))\n",
    "fig = plt.figure(figsize=(30,13))\n",
    "fig.subplots_adjust(left=0, right=1, bottom=0, top=1, hspace=0, wspace=0)\n",
    "for motif in motifs:\n",
    "    ax = fig.add_subplot(x, y, count, xticks=[], yticks=[])\n",
    "    ax.imshow(images[count-1])\n",
    "    count += 1\n",
    "\n",
    "plt.show()"
   ]
  },
  {
   "cell_type": "code",
   "execution_count": 45,
   "metadata": {
    "collapsed": false
   },
   "outputs": [
    {
     "name": "stdout",
     "output_type": "stream",
     "text": [
      "{'learning_rate': 1e-05,\n",
      " 'motif_length': 11,\n",
      " 'number_of_motifs': 10,\n",
      " 'pooling_factor': 5}\n",
      "101\n"
     ]
    }
   ],
   "source": [
    "learner.printHyperParams()\n",
    "print len(learner.observers[2].scores)"
   ]
  },
  {
   "cell_type": "markdown",
   "metadata": {
    "collapsed": true
   },
   "source": [
    "## Make a video from the motifs in which we have a subplot of all motifs per frame!\n",
    "For that, we have to find out how we can simply get the image without writing it to disk first.\n",
    "Then, we can use python multimedia capabilities for some nice plotting!"
   ]
  },
  {
   "cell_type": "code",
   "execution_count": 46,
   "metadata": {
    "collapsed": false
   },
   "outputs": [
    {
     "name": "stdout",
     "output_type": "stream",
     "text": [
      "Got Logos for Time/Epoch 0\n",
      "Got Logos for Time/Epoch 1\n",
      "Got Logos for Time/Epoch 2\n",
      "Got Logos for Time/Epoch 3\n",
      "Got Logos for Time/Epoch 4\n",
      "Got Logos for Time/Epoch 5\n",
      "Got Logos for Time/Epoch 6\n",
      "Got Logos for Time/Epoch 7\n",
      "Got Logos for Time/Epoch 8\n",
      "Got Logos for Time/Epoch 9\n",
      "Got Logos for Time/Epoch 10\n",
      "Got Logos for Time/Epoch 11\n",
      "Got Logos for Time/Epoch 12\n",
      "Got Logos for Time/Epoch 13\n",
      "Got Logos for Time/Epoch 14\n",
      "Got Logos for Time/Epoch 15\n",
      "Got Logos for Time/Epoch 16\n",
      "Got Logos for Time/Epoch 17\n",
      "Got Logos for Time/Epoch 18\n",
      "Got Logos for Time/Epoch 19\n",
      "Got Logos for Time/Epoch 20\n",
      "Got Logos for Time/Epoch 21\n",
      "Got Logos for Time/Epoch 22\n",
      "Got Logos for Time/Epoch 23\n",
      "Got Logos for Time/Epoch 24\n",
      "Got Logos for Time/Epoch 25\n",
      "Got Logos for Time/Epoch 26\n",
      "Got Logos for Time/Epoch 27\n",
      "Got Logos for Time/Epoch 28\n",
      "Got Logos for Time/Epoch 29\n",
      "Got Logos for Time/Epoch 30\n",
      "Got Logos for Time/Epoch 31\n",
      "Got Logos for Time/Epoch 32\n",
      "Got Logos for Time/Epoch 33\n",
      "Got Logos for Time/Epoch 34\n",
      "Got Logos for Time/Epoch 35\n",
      "Got Logos for Time/Epoch 36\n",
      "Got Logos for Time/Epoch 37\n",
      "Got Logos for Time/Epoch 38\n",
      "Got Logos for Time/Epoch 39\n",
      "Got Logos for Time/Epoch 40\n",
      "Got Logos for Time/Epoch 41\n",
      "Got Logos for Time/Epoch 42\n",
      "Got Logos for Time/Epoch 43\n",
      "Got Logos for Time/Epoch 44\n",
      "Got Logos for Time/Epoch 45\n",
      "Got Logos for Time/Epoch 46\n",
      "Got Logos for Time/Epoch 47\n",
      "Got Logos for Time/Epoch 48\n",
      "Got Logos for Time/Epoch 49\n",
      "Got Logos for Time/Epoch 50\n",
      "Got Logos for Time/Epoch 51\n",
      "Got Logos for Time/Epoch 52\n",
      "Got Logos for Time/Epoch 53\n",
      "Got Logos for Time/Epoch 54\n",
      "Got Logos for Time/Epoch 55\n",
      "Got Logos for Time/Epoch 56\n",
      "Got Logos for Time/Epoch 57\n",
      "Got Logos for Time/Epoch 58\n",
      "Got Logos for Time/Epoch 59\n",
      "Got Logos for Time/Epoch 60\n",
      "Got Logos for Time/Epoch 61\n",
      "Got Logos for Time/Epoch 62\n",
      "Got Logos for Time/Epoch 63\n",
      "Got Logos for Time/Epoch 64\n",
      "Got Logos for Time/Epoch 65\n",
      "Got Logos for Time/Epoch 66\n",
      "Got Logos for Time/Epoch 67\n",
      "Got Logos for Time/Epoch 68\n",
      "Got Logos for Time/Epoch 69\n",
      "Got Logos for Time/Epoch 70\n",
      "Got Logos for Time/Epoch 71\n",
      "Got Logos for Time/Epoch 72\n",
      "Got Logos for Time/Epoch 73\n",
      "Got Logos for Time/Epoch 74\n",
      "Got Logos for Time/Epoch 75\n",
      "Got Logos for Time/Epoch 76\n",
      "Got Logos for Time/Epoch 77\n",
      "Got Logos for Time/Epoch 78\n",
      "Got Logos for Time/Epoch 79\n",
      "Got Logos for Time/Epoch 80\n",
      "Got Logos for Time/Epoch 81\n",
      "Got Logos for Time/Epoch 82\n",
      "Got Logos for Time/Epoch 83\n",
      "Got Logos for Time/Epoch 84\n",
      "Got Logos for Time/Epoch 85\n",
      "Got Logos for Time/Epoch 86\n",
      "Got Logos for Time/Epoch 87\n",
      "Got Logos for Time/Epoch 88\n",
      "Got Logos for Time/Epoch 89\n",
      "Got Logos for Time/Epoch 90\n",
      "Got Logos for Time/Epoch 91\n",
      "Got Logos for Time/Epoch 92\n",
      "Got Logos for Time/Epoch 93\n",
      "Got Logos for Time/Epoch 94\n",
      "Got Logos for Time/Epoch 95\n",
      "Got Logos for Time/Epoch 96\n",
      "Got Logos for Time/Epoch 97\n",
      "Got Logos for Time/Epoch 98\n",
      "Got Logos for Time/Epoch 99\n",
      "Got Logos for Time/Epoch 100\n"
     ]
    }
   ],
   "source": [
    "# get the logos for all scores during training\n",
    "logosOverTime = []\n",
    "for timeSlice in range(len(learner.observers[2].scores)):\n",
    "    allMotifsPerSlice = learner.observers[2].scores[timeSlice]\n",
    "    logosOverTime.append(getLogoListFrom4DMatrix(allMotifsPerSlice))\n",
    "    print \"Got Logos for Time/Epoch \" + str(timeSlice)"
   ]
  },
  {
   "cell_type": "code",
   "execution_count": 49,
   "metadata": {
    "collapsed": false
   },
   "outputs": [
    {
     "name": "stdout",
     "output_type": "stream",
     "text": [
      "(20, 1, 4, 11)\n",
      "4.0 5.0\n",
      "in init\n",
      "20\n"
     ]
    },
    {
     "ename": "AttributeError",
     "evalue": "'NoneType' object has no attribute 'tk'",
     "output_type": "error",
     "traceback": [
      "\u001b[1;31m---------------------------------------------------------------------------\u001b[0m",
      "\u001b[1;31mAttributeError\u001b[0m                            Traceback (most recent call last)",
      "\u001b[1;32m<ipython-input-49-5745f0a335df>\u001b[0m in \u001b[0;36m<module>\u001b[1;34m()\u001b[0m\n\u001b[0;32m     36\u001b[0m                                interval=20, repeat=True)\n\u001b[0;32m     37\u001b[0m \u001b[1;31m#anim.save('test.mp4', fps=30, extra_args=['-vcodec', 'libx264'])\u001b[0m\u001b[1;33m\u001b[0m\u001b[1;33m\u001b[0m\u001b[0m\n\u001b[1;32m---> 38\u001b[1;33m \u001b[0mplt\u001b[0m\u001b[1;33m.\u001b[0m\u001b[0mshow\u001b[0m\u001b[1;33m(\u001b[0m\u001b[1;33m)\u001b[0m\u001b[1;33m\u001b[0m\u001b[0m\n\u001b[0m",
      "\u001b[1;32m/package/ddbtools/python2/2015-11-21/lib/python2.7/site-packages/matplotlib/pyplot.pyc\u001b[0m in \u001b[0;36mshow\u001b[1;34m(*args, **kw)\u001b[0m\n\u001b[0;32m    242\u001b[0m     \"\"\"\n\u001b[0;32m    243\u001b[0m     \u001b[1;32mglobal\u001b[0m \u001b[0m_show\u001b[0m\u001b[1;33m\u001b[0m\u001b[0m\n\u001b[1;32m--> 244\u001b[1;33m     \u001b[1;32mreturn\u001b[0m \u001b[0m_show\u001b[0m\u001b[1;33m(\u001b[0m\u001b[1;33m*\u001b[0m\u001b[0margs\u001b[0m\u001b[1;33m,\u001b[0m \u001b[1;33m**\u001b[0m\u001b[0mkw\u001b[0m\u001b[1;33m)\u001b[0m\u001b[1;33m\u001b[0m\u001b[0m\n\u001b[0m\u001b[0;32m    245\u001b[0m \u001b[1;33m\u001b[0m\u001b[0m\n\u001b[0;32m    246\u001b[0m \u001b[1;33m\u001b[0m\u001b[0m\n",
      "\u001b[1;32m/package/ddbtools/python2/2015-11-21/lib/python2.7/site-packages/matplotlib/backend_bases.pyc\u001b[0m in \u001b[0;36m__call__\u001b[1;34m(self, block)\u001b[0m\n\u001b[0;32m    190\u001b[0m \u001b[1;33m\u001b[0m\u001b[0m\n\u001b[0;32m    191\u001b[0m         \u001b[1;32mif\u001b[0m \u001b[1;32mnot\u001b[0m \u001b[0mis_interactive\u001b[0m\u001b[1;33m(\u001b[0m\u001b[1;33m)\u001b[0m \u001b[1;32mor\u001b[0m \u001b[0mget_backend\u001b[0m\u001b[1;33m(\u001b[0m\u001b[1;33m)\u001b[0m \u001b[1;33m==\u001b[0m \u001b[1;34m'WebAgg'\u001b[0m\u001b[1;33m:\u001b[0m\u001b[1;33m\u001b[0m\u001b[0m\n\u001b[1;32m--> 192\u001b[1;33m             \u001b[0mself\u001b[0m\u001b[1;33m.\u001b[0m\u001b[0mmainloop\u001b[0m\u001b[1;33m(\u001b[0m\u001b[1;33m)\u001b[0m\u001b[1;33m\u001b[0m\u001b[0m\n\u001b[0m\u001b[0;32m    193\u001b[0m \u001b[1;33m\u001b[0m\u001b[0m\n\u001b[0;32m    194\u001b[0m     \u001b[1;32mdef\u001b[0m \u001b[0mmainloop\u001b[0m\u001b[1;33m(\u001b[0m\u001b[0mself\u001b[0m\u001b[1;33m)\u001b[0m\u001b[1;33m:\u001b[0m\u001b[1;33m\u001b[0m\u001b[0m\n",
      "\u001b[1;32m/package/ddbtools/python2/2015-11-21/lib/python2.7/site-packages/matplotlib/backends/backend_tkagg.pyc\u001b[0m in \u001b[0;36mmainloop\u001b[1;34m(self)\u001b[0m\n\u001b[0;32m     72\u001b[0m \u001b[1;32mclass\u001b[0m \u001b[0mShow\u001b[0m\u001b[1;33m(\u001b[0m\u001b[0mShowBase\u001b[0m\u001b[1;33m)\u001b[0m\u001b[1;33m:\u001b[0m\u001b[1;33m\u001b[0m\u001b[0m\n\u001b[0;32m     73\u001b[0m     \u001b[1;32mdef\u001b[0m \u001b[0mmainloop\u001b[0m\u001b[1;33m(\u001b[0m\u001b[0mself\u001b[0m\u001b[1;33m)\u001b[0m\u001b[1;33m:\u001b[0m\u001b[1;33m\u001b[0m\u001b[0m\n\u001b[1;32m---> 74\u001b[1;33m         \u001b[0mTk\u001b[0m\u001b[1;33m.\u001b[0m\u001b[0mmainloop\u001b[0m\u001b[1;33m(\u001b[0m\u001b[1;33m)\u001b[0m\u001b[1;33m\u001b[0m\u001b[0m\n\u001b[0m\u001b[0;32m     75\u001b[0m \u001b[1;33m\u001b[0m\u001b[0m\n\u001b[0;32m     76\u001b[0m \u001b[0mshow\u001b[0m \u001b[1;33m=\u001b[0m \u001b[0mShow\u001b[0m\u001b[1;33m(\u001b[0m\u001b[1;33m)\u001b[0m\u001b[1;33m\u001b[0m\u001b[0m\n",
      "\u001b[1;32m/package/ddbtools/python2/2015-11-21/lib/python2.7/lib-tk/Tkinter.pyc\u001b[0m in \u001b[0;36mmainloop\u001b[1;34m(n)\u001b[0m\n\u001b[0;32m    412\u001b[0m \u001b[1;32mdef\u001b[0m \u001b[0mmainloop\u001b[0m\u001b[1;33m(\u001b[0m\u001b[0mn\u001b[0m\u001b[1;33m=\u001b[0m\u001b[1;36m0\u001b[0m\u001b[1;33m)\u001b[0m\u001b[1;33m:\u001b[0m\u001b[1;33m\u001b[0m\u001b[0m\n\u001b[0;32m    413\u001b[0m     \u001b[1;34m\"\"\"Run the main loop of Tcl.\"\"\"\u001b[0m\u001b[1;33m\u001b[0m\u001b[0m\n\u001b[1;32m--> 414\u001b[1;33m     \u001b[0m_default_root\u001b[0m\u001b[1;33m.\u001b[0m\u001b[0mtk\u001b[0m\u001b[1;33m.\u001b[0m\u001b[0mmainloop\u001b[0m\u001b[1;33m(\u001b[0m\u001b[0mn\u001b[0m\u001b[1;33m)\u001b[0m\u001b[1;33m\u001b[0m\u001b[0m\n\u001b[0m\u001b[0;32m    415\u001b[0m \u001b[1;33m\u001b[0m\u001b[0m\n\u001b[0;32m    416\u001b[0m \u001b[0mgetint\u001b[0m \u001b[1;33m=\u001b[0m \u001b[0mint\u001b[0m\u001b[1;33m\u001b[0m\u001b[0m\n",
      "\u001b[1;31mAttributeError\u001b[0m: 'NoneType' object has no attribute 'tk'"
     ]
    }
   ],
   "source": [
    "from matplotlib import animation\n",
    "\n",
    "fig = plt.figure(figsize=(30,13))\n",
    "fig.subplots_adjust(left=0, right=1, bottom=0, top=1, hspace=0, wspace=0)\n",
    "frame_text = fig.text(0.95, 0.95,\n",
    "                      'Epoch: ' + str(0),\n",
    "                      verticalalignment='bottom',\n",
    "                      horizontalalignment='right',\n",
    "                      color='green', fontsize=30)\n",
    "allMotifsOverTime = learner.observers[2].scores\n",
    "print allMotifsOverTime[0].shape\n",
    "\n",
    "x, y = bestSplit(allMotifsOverTime[0].shape[0])\n",
    "print x, y\n",
    "axesList = []\n",
    "\n",
    "def init():\n",
    "    print \"in init\"\n",
    "    for i in range(allMotifsOverTime[0].shape[0]):\n",
    "        ax = fig.add_subplot(x, y, i+1, xticks=[], yticks=[])\n",
    "        im = ax.imshow(logosOverTime[0][i])\n",
    "        axesList.append(im)\n",
    "    print len(axesList)\n",
    "        \n",
    "def printFrame(frameNr):\n",
    "    numMotifs = allMotifsOverTime[frameNr].shape[0]\n",
    "    for motif in range(numMotifs):\n",
    "        axesList[motif].set_data(logosOverTime[frameNr][motif])\n",
    "        #ax.imshow(logosOverTime[frameNr][motif])\n",
    "    frame_text.set_text('Epoch: ' + str(frameNr))\n",
    "\n",
    "anim = animation.FuncAnimation(fig,\n",
    "                               printFrame,\n",
    "                               init_func=init,\n",
    "                               frames=len(learner.observers[2].scores),\n",
    "                               interval=20, repeat=True)\n",
    "#anim.save('test.mp4', fps=30, extra_args=['-vcodec', 'libx264'])\n",
    "plt.show()"
   ]
  },
  {
   "cell_type": "code",
   "execution_count": null,
   "metadata": {
    "collapsed": false
   },
   "outputs": [],
   "source": []
  },
  {
   "cell_type": "code",
   "execution_count": null,
   "metadata": {
    "collapsed": true
   },
   "outputs": [],
   "source": []
  }
 ],
 "metadata": {
  "kernelspec": {
   "display_name": "Python 2",
   "language": "python",
   "name": "python2"
  },
  "language_info": {
   "codemirror_mode": {
    "name": "ipython",
    "version": 2
   },
   "file_extension": ".py",
   "mimetype": "text/x-python",
   "name": "python",
   "nbconvert_exporter": "python",
   "pygments_lexer": "ipython2",
   "version": "2.7.10"
  }
 },
 "nbformat": 4,
 "nbformat_minor": 0
}
