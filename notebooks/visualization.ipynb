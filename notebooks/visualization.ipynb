{
 "cells": [
  {
   "cell_type": "markdown",
   "metadata": {},
   "source": [
    "# Visualization\n",
    "In this notebook, we're going to explore what the model we have trained actually learned.\n",
    "This involves some of the following things:\n",
    "* **Verify that we actually get better while learning**\n",
    "* **Look at the motifs we learn**\n",
    "* What does the hidden layer tell us about the model"
   ]
  },
  {
   "cell_type": "code",
   "execution_count": 1,
   "metadata": {
    "collapsed": false
   },
   "outputs": [
    {
     "name": "stderr",
     "output_type": "stream",
     "text": [
      "ERROR (theano.sandbox.cuda): nvcc compiler not found on $PATH. Check your nvcc installation and try again.\n",
      "ERROR:theano.sandbox.cuda:nvcc compiler not found on $PATH. Check your nvcc installation and try again.\n"
     ]
    }
   ],
   "source": [
    "%matplotlib inline\n",
    "\n",
    "# some always important inputs\n",
    "import sys\n",
    "import os\n",
    "import random\n",
    "import time\n",
    "import numpy as np\n",
    "import cPickle\n",
    "\n",
    "# the underlying convRBM implementation\n",
    "sys.path.append(os.path.abspath('../code'))\n",
    "from convRBM import CRBM\n",
    "import getData as dataRead\n",
    "\n",
    "# plotting and data handling\n",
    "import matplotlib.pyplot as plt\n",
    "from sklearn.cross_validation import train_test_split\n",
    "\n",
    "# the biopython stuff\n",
    "import Bio.SeqIO as sio\n",
    "import Bio.motifs.matrix as mat\n",
    "from Bio.Alphabet import IUPAC\n",
    "from Bio.Seq import Seq\n",
    "from Bio import motifs as mot"
   ]
  },
  {
   "cell_type": "markdown",
   "metadata": {},
   "source": [
    "## Read in the data and a previously trained model\n",
    "This part of the notebook trains a convolutional RBM on the DHS data. This may take a lot of time but only once we trained it, will it be possible to do the visualization of what the model learnt."
   ]
  },
  {
   "cell_type": "code",
   "execution_count": 11,
   "metadata": {
    "collapsed": false
   },
   "outputs": [
    {
     "name": "stdout",
     "output_type": "stream",
     "text": [
      "Training set size: 154147\n",
      "Test set size: 17128\n",
      "ERROR. LETTER N DOES NOT EXIST!\n",
      "ERROR. LETTER N DOES NOT EXIST!\n",
      "Conversion of test set in (in ms): 18446.9199181\n"
     ]
    }
   ],
   "source": [
    "seqReader = dataRead.FASTAReader()\n",
    "allSeqs = seqReader.readSequencesFromFile('../data/wgEncodeAwgDnaseUwAg10803UniPk.fa')\n",
    "\n",
    "#data = [allSeqs[random.randrange(0,len(allSeqs))] for i in range(20000)]\n",
    "data = allSeqs\n",
    "train_set, test_set = train_test_split(data, test_size=0.1)\n",
    "print \"Training set size: \" + str(len(train_set))\n",
    "print \"Test set size: \" + str(len(test_set))\n",
    "\n",
    "start = time.time()\n",
    "trainingData = np.array([dataRead.getOneHotMatrixFromSeq(t) for t in train_set])\n",
    "testingData = np.array([dataRead.getOneHotMatrixFromSeq(t) for t in test_set])\n",
    "print \"Conversion of test set in (in ms): \" + str((time.time()-start)*1000)"
   ]
  },
  {
   "cell_type": "code",
   "execution_count": 2,
   "metadata": {
    "collapsed": true
   },
   "outputs": [],
   "source": [
    "# read in the model\n",
    "learner = CRBM(9, 20, 0.001, 2)\n",
    "learner.loadModel('../../models/trainedModel_2016_01_18_15_44.pkl')"
   ]
  },
  {
   "cell_type": "code",
   "execution_count": 6,
   "metadata": {
    "collapsed": false
   },
   "outputs": [
    {
     "name": "stdout",
     "output_type": "stream",
     "text": [
      "(40, 1, 4, 7)\n"
     ]
    }
   ],
   "source": [
    "print learner.observers[-1].scores[0].shape"
   ]
  },
  {
   "cell_type": "markdown",
   "metadata": {},
   "source": [
    "## Write Motifs to File"
   ]
  },
  {
   "cell_type": "markdown",
   "metadata": {},
   "source": [
    "### Some basic funcions to get motifs from the matrices"
   ]
  },
  {
   "cell_type": "code",
   "execution_count": 22,
   "metadata": {
    "collapsed": true
   },
   "outputs": [],
   "source": [
    "def getLetterToInt (num):\n",
    "    if num == 0:\n",
    "        return 'A'\n",
    "    elif num == 1:\n",
    "        return 'C'\n",
    "    elif num == 2:\n",
    "        return 'G'\n",
    "    elif num == 3:\n",
    "        return 'T'\n",
    "    else:\n",
    "        print 'ERROR: Num ' + str(num) + \" not a valid char in DNA alphabet\"\n",
    "        return -1\n",
    "\n",
    "def createMotifFromMatrix (matrix, alphabet=IUPAC.unambiguous_dna):\n",
    "    assert matrix.shape[0] == 4\n",
    "    \n",
    "    # transform the matrix such that the log odds are taken away\n",
    "    # matrix_ij = log(foreground/background) <=> log(foreground) - log(background)\n",
    "    psm = matrix + np.log(0.25) # 0.25 if we treat all letters as equally probable\n",
    "    psm = np.exp(psm)\n",
    "    psm = psm / psm.sum(axis=1, keepdims=True)\n",
    "    \n",
    "    # make this matrix a valid motif\n",
    "    counts = {}\n",
    "    for row in range(4):\n",
    "        counts[getLetterToInt(row)] = (psm[row]).tolist()\n",
    "    motif = mot.Motif(alphabet=alphabet, instances=None, counts=counts)\n",
    "    return motif"
   ]
  },
  {
   "cell_type": "code",
   "execution_count": 23,
   "metadata": {
    "collapsed": false
   },
   "outputs": [],
   "source": [
    "# first, get the motifs into single 2D matrices within a list\n",
    "motifs = []\n",
    "M = learner.motifs.get_value()\n",
    "for i in range(0, M.shape[0], 2): # only add positive strands...\n",
    "    motifs.append(M[i,0]) # second dim is 1, so just make it 2D\n",
    "    "
   ]
  },
  {
   "cell_type": "code",
   "execution_count": 24,
   "metadata": {
    "collapsed": false
   },
   "outputs": [
    {
     "name": "stdout",
     "output_type": "stream",
     "text": [
      "P0      A      C      G      T\n",
      "01 0.29125064611434936523 0.080493859946727752686 0.13343438506126403809 0.048717729747295379639      A\n",
      "02 0.14961674809455871582 0.13750812411308288574 0.039602167904376983643 0.21968689560890197754      N\n",
      "03 0.093699343502521514893 0.071027889847755432129 0.19974099099636077881 0.1710863262414932251      N\n",
      "04 0.02942527085542678833 0.073732957243919372559 0.13121739029884338379 0.26657161116600036621      T\n",
      "05 0.065043516457080841064 0.39700272679328918457 0.080245129764080047607 0.18321444094181060791      C\n",
      "06 0.18865780532360076904 0.16982139647006988525 0.25595951080322265625 0.04600308835506439209      N\n",
      "07 0.18230664730072021484 0.070413053035736083984 0.15980041027069091797 0.064719945192337036133      N\n",
      "XX\n",
      "//\n",
      "\n"
     ]
    }
   ],
   "source": [
    "t = motifs[4]\n",
    "mt = createMotifFromMatrix(t)\n",
    "print mt.format('transfac')"
   ]
  },
  {
   "cell_type": "code",
   "execution_count": 25,
   "metadata": {
    "collapsed": true
   },
   "outputs": [],
   "source": [
    "def weblogo(motif, fname, file_format=\"png_print\", version=\"2.8.2\", **kwds): \n",
    "    from Bio._py3k import urlopen, urlencode, Request \n",
    "    frequencies = motif.format('transfac') \n",
    "    url = 'http://weblogo.threeplusone.com/create.cgi' \n",
    "    values = {'sequences': frequencies, \n",
    "                    'format': file_format.lower(), \n",
    "                    'stack_width': 'medium', \n",
    "                    'stack_per_line': '40', \n",
    "                    'alphabet': 'alphabet_dna', \n",
    "                    'ignore_lower_case': True, \n",
    "                    'unit_name': \"bits\", \n",
    "                    'first_index': '1', \n",
    "                    'logo_start': '1', \n",
    "                    'logo_end': str(motif.length), \n",
    "                    'composition': \"comp_auto\", \n",
    "                    'percentCG': '', \n",
    "                    'scale_width': True, \n",
    "                    'show_errorbars': True, \n",
    "                    'logo_title': '', \n",
    "                    'logo_label': '', \n",
    "                    'show_xaxis': True, \n",
    "                    'xaxis_label': '', \n",
    "                    'show_yaxis': True, \n",
    "                    'yaxis_label': '', \n",
    "                    'yaxis_scale': 'auto', \n",
    "                    'yaxis_tic_interval': '1.0', \n",
    "                    'show_ends': True, \n",
    "                    'show_fineprint': True, \n",
    "                    'color_scheme': 'color_auto', \n",
    "                    'symbols0': '', \n",
    "                    'symbols1': '', \n",
    "                    'symbols2': '', \n",
    "                    'symbols3': '', \n",
    "                    'symbols4': '', \n",
    "                    'color0': '', \n",
    "                    'color1': '', \n",
    "                    'color2': '', \n",
    "                    'color3': '', \n",
    "                    'color4': '', \n",
    "                    } \n",
    "    values.update(dict((k, \"\" if v is False else str(v)) for k, v in kwds.items()))\n",
    "    data = urlencode(values).encode(\"utf-8\")\n",
    "    req = Request(url, data)\n",
    "    response = urlopen(req)\n",
    "    with open(fname, \"wb\") as f: \n",
    "        im = response.read()\n",
    "        f.write(im)\n",
    "    f.close()"
   ]
  },
  {
   "cell_type": "code",
   "execution_count": 26,
   "metadata": {
    "collapsed": false
   },
   "outputs": [],
   "source": [
    "weblogo(mt, 'test.png')\n",
    "#freqs = mt.format('transfac')\n",
    "#print freqs"
   ]
  },
  {
   "cell_type": "code",
   "execution_count": 27,
   "metadata": {
    "collapsed": false
   },
   "outputs": [],
   "source": [
    "count = 0\n",
    "for m in motifs:\n",
    "    motif = createMotifFromMatrix(m)\n",
    "    weblogo(motif, '../../learnedMotifs/learnedMotif_'+str(count)+'.png')\n",
    "    count += 1\n"
   ]
  },
  {
   "cell_type": "markdown",
   "metadata": {
    "collapsed": true
   },
   "source": [
    "## Make a video from the motifs in which we have a subplot of all motifs per frame!\n",
    "For that, we have to find out how we can simply get the image without writing it to disk first.\n",
    "Then, we can use python multimedia capabilities for some nice plotting!"
   ]
  },
  {
   "cell_type": "code",
   "execution_count": null,
   "metadata": {
    "collapsed": true
   },
   "outputs": [],
   "source": []
  }
 ],
 "metadata": {
  "kernelspec": {
   "display_name": "Python 2",
   "language": "python",
   "name": "python2"
  },
  "language_info": {
   "codemirror_mode": {
    "name": "ipython",
    "version": 2
   },
   "file_extension": ".py",
   "mimetype": "text/x-python",
   "name": "python",
   "nbconvert_exporter": "python",
   "pygments_lexer": "ipython2",
   "version": "2.7.6"
  }
 },
 "nbformat": 4,
 "nbformat_minor": 0
}
