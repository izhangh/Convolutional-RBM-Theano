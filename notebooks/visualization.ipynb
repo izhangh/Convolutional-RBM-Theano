{
 "cells": [
  {
   "cell_type": "markdown",
   "metadata": {},
   "source": [
    "# Visualization\n",
    "In this notebook, we're going to explore what the model we have trained actually learned.\n",
    "This involves some of the following things:\n",
    "* **Verify that we actually get better while learning**\n",
    "* Look at the motifs we learn\n",
    "* What does the hidden layer tell us about the model"
   ]
  },
  {
   "cell_type": "code",
   "execution_count": 7,
   "metadata": {
    "collapsed": false
   },
   "outputs": [
    {
     "name": "stderr",
     "output_type": "stream",
     "text": [
      "ERROR (theano.sandbox.cuda): Failed to compile cuda_ndarray.cu: libcublas.so.7.0: cannot open shared object file: No such file or directory\n",
      "ERROR:theano.sandbox.cuda:Failed to compile cuda_ndarray.cu: libcublas.so.7.0: cannot open shared object file: No such file or directory\n",
      "WARNING (theano.sandbox.cuda): CUDA is installed, but device gpu is not available  (error: cuda unavilable)\n",
      "WARNING:theano.sandbox.cuda:CUDA is installed, but device gpu is not available  (error: cuda unavilable)\n"
     ]
    },
    {
     "name": "stdout",
     "output_type": "stream",
     "text": [
      "Couldn't import dot_parser, loading of dot files will not be possible.\n"
     ]
    }
   ],
   "source": [
    "%matplotlib inline\n",
    "\n",
    "# some always important inputs\n",
    "import sys\n",
    "import os\n",
    "import random\n",
    "import time\n",
    "import numpy as np\n",
    "\n",
    "# the underlying convRBM implementation\n",
    "sys.path.append(os.path.abspath('../code'))\n",
    "from convRBM import CRBM\n",
    "import getData as dataRead\n",
    "\n",
    "# plotting and data handling\n",
    "import matplotlib.pyplot as plt\n",
    "from sklearn.cross_validation import train_test_split\n",
    "\n",
    "# the biopython stuff\n",
    "import Bio.SeqIO as sio\n",
    "import Bio.motifs.matrix as mat\n",
    "from Bio.Alphabet import IUPAC\n",
    "from Bio.Seq import Seq\n",
    "from Bio import motifs"
   ]
  },
  {
   "cell_type": "markdown",
   "metadata": {},
   "source": [
    "## Read in the data and train our model\n",
    "This part of the notebook trains a convolutional RBM on the DHS data. This may take a lot of time but only once we trained it, will it be possible to do the visualization of what the model learnt."
   ]
  },
  {
   "cell_type": "code",
   "execution_count": 8,
   "metadata": {
    "collapsed": false
   },
   "outputs": [
    {
     "name": "stdout",
     "output_type": "stream",
     "text": [
      "Training set size: 15000\n",
      "Test set size: 5000\n",
      "Conversion of test set in (in ms): 3284.79385376\n"
     ]
    }
   ],
   "source": [
    "seqReader = dataRead.FASTAReader()\n",
    "allSeqs = seqReader.readSequencesFromFile('../data/wgEncodeAwgDnaseUwAg10803UniPk.fa')\n",
    "\n",
    "data = [allSeqs[random.randrange(0,len(allSeqs))] for i in range(20000)]\n",
    "train_set, test_set = train_test_split(data, test_size=0.25)\n",
    "print \"Training set size: \" + str(len(train_set))\n",
    "print \"Test set size: \" + str(len(test_set))\n",
    "\n",
    "start = time.time()\n",
    "trainingData = np.array([dataRead.getMatrixFromSeq(t) for t in train_set])\n",
    "testingData = np.array([dataRead.getMatrixFromSeq(t) for t in test_set])\n",
    "print \"Conversion of test set in (in ms): \" + str((time.time()-start)*1000)"
   ]
  },
  {
   "cell_type": "code",
   "execution_count": 9,
   "metadata": {
    "collapsed": false
   },
   "outputs": [
    {
     "name": "stdout",
     "output_type": "stream",
     "text": [
      "Data mat shape: (15000, 1, 4, 150)\n",
      "BatchSize: 10\n",
      "Num of iterations per epoch: 1500\n",
      "Compilation of theano function finished in 5.27771496773 seconds\n",
      "Start training...\n",
      "Initial Reconstruction Error: 12807.2460938\n",
      "[Epoch 0] Reconstruction Error: 12679.3662109\n",
      "[Epoch 1] Reconstruction Error: 12398.3808594\n",
      "[Epoch 2] Reconstruction Error: 11961.2861328\n",
      "[Epoch 3] Reconstruction Error: 11611.2705078\n",
      "[Epoch 4] Reconstruction Error: 11411.4238281\n",
      "[Epoch 5] Reconstruction Error: 11298.7851562\n",
      "[Epoch 6] Reconstruction Error: 11223.4560547\n",
      "[Epoch 7] Reconstruction Error: 11161.3886719\n",
      "[Epoch 8] Reconstruction Error: 11104.1650391\n",
      "[Epoch 9] Reconstruction Error: 11049.2705078\n",
      "Training finished after: 144.337275982 seconds!\n",
      "Training of 15000 performed in: 149.626496077 seconds.\n"
     ]
    },
    {
     "data": {
      "image/png": "[encoded data removed]",
      "text/plain": [
       "<matplotlib.figure.Figure at 0x7f11b96c0d10>"
      ]
     },
     "metadata": {},
     "output_type": "display_data"
    }
   ],
   "source": [
    "learner = CRBM(3, 20, 0.001, 2)\n",
    "print \"Data mat shape: \" + str(trainingData.shape)\n",
    "start = time.time()\n",
    "scores = learner.trainMinibatch(trainingData, testingData, 10, 10, 1)\n",
    "print \"Training of \" + str(trainingData.shape[0]) + \" performed in: \" + str(time.time()-start) + \" seconds.\"\n",
    "plt.plot(scores)\n",
    "plt.ylabel('Average free energy over test set')\n",
    "plt.xlabel('Epoch')\n",
    "plt.title('The free energy over training time and testing data')\n",
    "plt.show()"
   ]
  },
  {
   "cell_type": "markdown",
   "metadata": {},
   "source": [
    "## Time for visualizing things"
   ]
  },
  {
   "cell_type": "code",
   "execution_count": null,
   "metadata": {
    "collapsed": true
   },
   "outputs": [],
   "source": [
    "def getLetterToInt (num):\n",
    "    if num == 0:\n",
    "        return 'A'\n",
    "    elif num == 1:\n",
    "        return 'C'\n",
    "    elif num == 2:\n",
    "        return 'G'\n",
    "    elif num == 3:\n",
    "        return 'T'\n",
    "    else:\n",
    "        print 'ERROR: Num ' + str(num) + \" not a valid char in DNA alphabet\"\n",
    "        return -1\n",
    "\n",
    "def createMotifFromMatrix (matrix, alphabet=IUPAC.unambiguous_dna):\n",
    "    assert matrix.shape[0] == 4\n",
    "    counts = {}\n",
    "    for row in range(4):\n",
    "        counts[getLetterToInt(row)] = matrix[row].tolist()\n",
    "    motif = Motif(alphabet=alphabet, instances=None, counts=counts)\n",
    "    return motif\n",
    "        \n",
    "        "
   ]
  },
  {
   "cell_type": "code",
   "execution_count": null,
   "metadata": {
    "collapsed": false
   },
   "outputs": [],
   "source": [
    "# first, get the motifs into single 2D matrices within a list\n",
    "motifs = []\n",
    "M = learner.motifs.get_value()\n",
    "for i in range(0, M.shape[0], 2):\n",
    "    motifs.append(M[i,0])\n",
    "    \n",
    "print motifs[0]"
   ]
  },
  {
   "cell_type": "code",
   "execution_count": 5,
   "metadata": {
    "collapsed": false
   },
   "outputs": [
    {
     "data": {
      "text/plain": [
       "'2.7.10 (default, Nov 21 2015, 17:46:33) \\n[GCC 4.8.2]'"
      ]
     },
     "execution_count": 5,
     "metadata": {},
     "output_type": "execute_result"
    }
   ],
   "source": [
    "import sys\n",
    "sys.version"
   ]
  },
  {
   "cell_type": "code",
   "execution_count": null,
   "metadata": {
    "collapsed": true
   },
   "outputs": [],
   "source": []
  }
 ],
 "metadata": {
  "kernelspec": {
   "display_name": "Python 2",
   "language": "python",
   "name": "python2"
  },
  "language_info": {
   "codemirror_mode": {
    "name": "ipython",
    "version": 2
   },
   "file_extension": ".py",
   "mimetype": "text/x-python",
   "name": "python",
   "nbconvert_exporter": "python",
   "pygments_lexer": "ipython2",
   "version": "2.7.10"
  }
 },
 "nbformat": 4,
 "nbformat_minor": 0
}
