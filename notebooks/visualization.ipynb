{
 "cells": [
  {
   "cell_type": "markdown",
   "metadata": {},
   "source": [
    "# Visualization\n",
    "In this notebook, we're going to explore what the model we have trained actually learned.\n",
    "This involves some of the following things:\n",
    "* **Verify that we actually get better while learning**\n",
    "* Look at the motifs we learn\n",
    "* What does the hidden layer tell us about the model"
   ]
  },
  {
   "cell_type": "code",
   "execution_count": 1,
   "metadata": {
    "collapsed": false
   },
   "outputs": [
    {
     "name": "stderr",
     "output_type": "stream",
     "text": [
      "ERROR (theano.sandbox.cuda): Failed to compile cuda_ndarray.cu: libcublas.so.7.0: cannot open shared object file: No such file or directory\n",
      "ERROR:theano.sandbox.cuda:Failed to compile cuda_ndarray.cu: libcublas.so.7.0: cannot open shared object file: No such file or directory\n",
      "WARNING (theano.sandbox.cuda): CUDA is installed, but device gpu is not available  (error: cuda unavilable)\n",
      "WARNING:theano.sandbox.cuda:CUDA is installed, but device gpu is not available  (error: cuda unavilable)\n"
     ]
    },
    {
     "name": "stdout",
     "output_type": "stream",
     "text": [
      "Couldn't import dot_parser, loading of dot files will not be possible.\n"
     ]
    }
   ],
   "source": [
    "%matplotlib inline\n",
    "\n",
    "# some always important inputs\n",
    "import sys\n",
    "import os\n",
    "import random\n",
    "import time\n",
    "import numpy as np\n",
    "import cPickle\n",
    "\n",
    "# the underlying convRBM implementation\n",
    "sys.path.append(os.path.abspath('../code'))\n",
    "from convRBM import CRBM\n",
    "import getData as dataRead\n",
    "\n",
    "# plotting and data handling\n",
    "import matplotlib.pyplot as plt\n",
    "from sklearn.cross_validation import train_test_split\n",
    "\n",
    "# the biopython stuff\n",
    "import Bio.SeqIO as sio\n",
    "import Bio.motifs.matrix as mat\n",
    "from Bio.Alphabet import IUPAC\n",
    "from Bio.Seq import Seq\n",
    "from Bio import motifs as mot"
   ]
  },
  {
   "cell_type": "markdown",
   "metadata": {},
   "source": [
    "## Read in the data and a previously trained model\n",
    "This part of the notebook trains a convolutional RBM on the DHS data. This may take a lot of time but only once we trained it, will it be possible to do the visualization of what the model learnt."
   ]
  },
  {
   "cell_type": "code",
   "execution_count": 48,
   "metadata": {
    "collapsed": false
   },
   "outputs": [
    {
     "name": "stdout",
     "output_type": "stream",
     "text": [
      "Training set size: 154147\n",
      "Test set size: 17128\n",
      "ERROR. LETTER N DOES NOT EXIST!\n",
      "ERROR. LETTER N DOES NOT EXIST!\n",
      "Conversion of test set in (in ms): 25589.1401768\n"
     ]
    }
   ],
   "source": [
    "seqReader = dataRead.FASTAReader()\n",
    "allSeqs = seqReader.readSequencesFromFile('../data/wgEncodeAwgDnaseUwAg10803UniPk.fa')\n",
    "\n",
    "#data = [allSeqs[random.randrange(0,len(allSeqs))] for i in range(20000)]\n",
    "data = allSeqs\n",
    "train_set, test_set = train_test_split(data, test_size=0.1)\n",
    "print \"Training set size: \" + str(len(train_set))\n",
    "print \"Test set size: \" + str(len(test_set))\n",
    "\n",
    "start = time.time()\n",
    "trainingData = np.array([dataRead.getMatrixFromSeq(t) for t in train_set])\n",
    "testingData = np.array([dataRead.getMatrixFromSeq(t) for t in test_set])\n",
    "print \"Conversion of test set in (in ms): \" + str((time.time()-start)*1000)\n",
    "\n",
    "# read in the model\n",
    "learner = CRBM(9, 20, 0.001, 2)\n",
    "learner.loadModel('../code/models/model_longRun_wholeData_good.pkl')"
   ]
  },
  {
   "cell_type": "code",
   "execution_count": 49,
   "metadata": {
    "collapsed": false
   },
   "outputs": [
    {
     "data": {
      "text/plain": [
       "array([[[-1.51438737, -1.26050794, -1.2018342 , -1.41881883, -1.37554908,\n",
       "         -0.94830269, -0.93635738, -1.43789268, -1.56744576],\n",
       "        [-0.60659784, -1.22122097, -0.77071369, -1.24265921, -1.39364493,\n",
       "         -1.36586833, -0.84354174, -0.90965325, -0.65799713],\n",
       "        [-0.98905933, -1.30046213, -0.74781138, -0.92262971, -1.46803606,\n",
       "         -1.04632795, -1.40989304, -0.45891264, -1.28915596],\n",
       "        [-0.72574425, -0.79178959, -1.02306497, -1.51537621, -1.13826168,\n",
       "         -1.06528139, -0.93671036, -1.1724515 , -0.88690335]]], dtype=float32)"
      ]
     },
     "execution_count": 49,
     "metadata": {},
     "output_type": "execute_result"
    }
   ],
   "source": [
    "learner.motifs.get_value()[0]"
   ]
  },
  {
   "cell_type": "markdown",
   "metadata": {},
   "source": [
    "## Time for visualizing things"
   ]
  },
  {
   "cell_type": "markdown",
   "metadata": {},
   "source": [
    "### Some basic funcions to get motifs from the matrices"
   ]
  },
  {
   "cell_type": "code",
   "execution_count": 50,
   "metadata": {
    "collapsed": true
   },
   "outputs": [],
   "source": [
    "def getLetterToInt (num):\n",
    "    if num == 0:\n",
    "        return 'A'\n",
    "    elif num == 1:\n",
    "        return 'C'\n",
    "    elif num == 2:\n",
    "        return 'G'\n",
    "    elif num == 3:\n",
    "        return 'T'\n",
    "    else:\n",
    "        print 'ERROR: Num ' + str(num) + \" not a valid char in DNA alphabet\"\n",
    "        return -1\n",
    "\n",
    "def createMotifFromMatrix (matrix, alphabet=IUPAC.unambiguous_dna):\n",
    "    assert matrix.shape[0] == 4\n",
    "    \n",
    "    # transform the matrix such that the log odds are taken away\n",
    "    psm = matrix - np.log(0.25) # 0.25 if we treat all letters as equally probable\n",
    "    psm = np.exp(psm)\n",
    "    psm = psm / psm.sum(axis=1, keepdims=True)\n",
    "    \n",
    "    # make this matrix a valid motif\n",
    "    counts = {}\n",
    "    for row in range(4):\n",
    "        counts[getLetterToInt(row)] = (psm[row]).tolist()\n",
    "    motif = mot.Motif(alphabet=alphabet, instances=None, counts=counts)\n",
    "    return motif\n",
    "        \n",
    "        "
   ]
  },
  {
   "cell_type": "code",
   "execution_count": 52,
   "metadata": {
    "collapsed": false
   },
   "outputs": [],
   "source": [
    "# first, get the motifs into single 2D matrices within a list\n",
    "motifs = []\n",
    "M = learner.motifs.get_value()\n",
    "for i in range(0, M.shape[0], 2): # only add positive strands...\n",
    "    motifs.append(M[i,0]) # second dim is 1, so just make it 2D\n",
    "    "
   ]
  },
  {
   "cell_type": "code",
   "execution_count": 53,
   "metadata": {
    "collapsed": false
   },
   "outputs": [
    {
     "name": "stdout",
     "output_type": "stream",
     "text": [
      "P0      A      C      G      T\n",
      "01 0.14889395236968994141 0.090371839702129364014 0.13606710731983184814 0.088590644299983978271      N\n",
      "02 0.063327021896839141846 0.10257748514413833618 0.34385627508163452148 0.052730116993188858032      G\n",
      "03 0.13056506216526031494 0.17629972100257873535 0.05597451329231262207 0.10194955021142959595      N\n",
      "04 0.13926328718662261963 0.058216303586959838867 0.037931937724351882935 0.10312003642320632935      N\n",
      "05 0.10609019547700881958 0.07831121981143951416 0.13704107701778411865 0.14290474355220794678      N\n",
      "06 0.07411785423755645752 0.25607964396476745605 0.042066976428031921387 0.11731642484664916992      C\n",
      "07 0.14179807901382446289 0.064862936735153198242 0.092090621590614318848 0.060077965259552001953      N\n",
      "08 0.12704397737979888916 0.054472073912620544434 0.073619559407234191895 0.17715586721897125244      N\n",
      "09 0.068900637328624725342 0.11880885809659957886 0.081351920962333679199 0.15615472197532653809      N\n",
      "XX\n",
      "//\n",
      "\n"
     ]
    }
   ],
   "source": [
    "t = motifs[4]\n",
    "mt = createMotifFromMatrix(t)\n",
    "print mt.format('transfac')"
   ]
  },
  {
   "cell_type": "code",
   "execution_count": 54,
   "metadata": {
    "collapsed": true
   },
   "outputs": [],
   "source": [
    "def weblogo(motif, fname, file_format=\"png_print\", version=\"2.8.2\", **kwds): \n",
    "    from Bio._py3k import urlopen, urlencode, Request \n",
    "    frequencies = motif.format('transfac') \n",
    "    url = 'http://weblogo.threeplusone.com/create.cgi' \n",
    "    values = {'sequences': frequencies, \n",
    "                    'format': file_format.lower(), \n",
    "                    'stack_width': 'medium', \n",
    "                    'stack_per_line': '40', \n",
    "                    'alphabet': 'alphabet_dna', \n",
    "                    'ignore_lower_case': True, \n",
    "                    'unit_name': \"bits\", \n",
    "                    'first_index': '1', \n",
    "                    'logo_start': '1', \n",
    "                    'logo_end': str(motif.length), \n",
    "                    'composition': \"comp_auto\", \n",
    "                    'percentCG': '', \n",
    "                    'scale_width': True, \n",
    "                    'show_errorbars': True, \n",
    "                    'logo_title': '', \n",
    "                    'logo_label': '', \n",
    "                    'show_xaxis': True, \n",
    "                    'xaxis_label': '', \n",
    "                    'show_yaxis': True, \n",
    "                    'yaxis_label': '', \n",
    "                    'yaxis_scale': 'auto', \n",
    "                    'yaxis_tic_interval': '1.0', \n",
    "                    'show_ends': True, \n",
    "                    'show_fineprint': True, \n",
    "                    'color_scheme': 'color_auto', \n",
    "                    'symbols0': '', \n",
    "                    'symbols1': '', \n",
    "                    'symbols2': '', \n",
    "                    'symbols3': '', \n",
    "                    'symbols4': '', \n",
    "                    'color0': '', \n",
    "                    'color1': '', \n",
    "                    'color2': '', \n",
    "                    'color3': '', \n",
    "                    'color4': '', \n",
    "                    } \n",
    "    values.update(dict((k, \"\" if v is False else str(v)) for k, v in kwds.items()))\n",
    "    data = urlencode(values).encode(\"utf-8\")\n",
    "    req = Request(url, data)\n",
    "    response = urlopen(req)\n",
    "    with open(fname, \"wb\") as f: \n",
    "        im = response.read()\n",
    "        f.write(im)\n",
    "    f.close()"
   ]
  },
  {
   "cell_type": "code",
   "execution_count": 55,
   "metadata": {
    "collapsed": false
   },
   "outputs": [],
   "source": [
    "weblogo(mt, 'test.png')\n",
    "#freqs = mt.format('transfac')\n",
    "#print freqs"
   ]
  },
  {
   "cell_type": "code",
   "execution_count": 56,
   "metadata": {
    "collapsed": false
   },
   "outputs": [],
   "source": [
    "count = 0\n",
    "for m in motifs:\n",
    "    motif = createMotifFromMatrix(m)\n",
    "    weblogo(motif, 'motifs/learnedMotif_'+str(count)+'.png')\n",
    "    count += 1\n"
   ]
  },
  {
   "cell_type": "code",
   "execution_count": null,
   "metadata": {
    "collapsed": true
   },
   "outputs": [],
   "source": []
  }
 ],
 "metadata": {
  "kernelspec": {
   "display_name": "Python 2",
   "language": "python",
   "name": "python2"
  },
  "language_info": {
   "codemirror_mode": {
    "name": "ipython",
    "version": 2
   },
   "file_extension": ".py",
   "mimetype": "text/x-python",
   "name": "python",
   "nbconvert_exporter": "python",
   "pygments_lexer": "ipython2",
   "version": "2.7.10"
  }
 },
 "nbformat": 4,
 "nbformat_minor": 0
}
