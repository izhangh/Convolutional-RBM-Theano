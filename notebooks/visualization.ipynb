{
 "cells": [
  {
   "cell_type": "markdown",
   "metadata": {},
   "source": [
    "# Visualization\n",
    "In this notebook, we're going to explore what the model we have trained actually learned.\n",
    "This involves some of the following things:\n",
    "* **Verify that we actually get better while learning**\n",
    "* **Look at the motifs we learn**\n",
    "* What does the hidden layer tell us about the model"
   ]
  },
  {
   "cell_type": "code",
   "execution_count": 1,
   "metadata": {
    "collapsed": false
   },
   "outputs": [
    {
     "name": "stderr",
     "output_type": "stream",
     "text": [
      "ERROR (theano.sandbox.cuda): Failed to compile cuda_ndarray.cu: libcublas.so.7.0: cannot open shared object file: No such file or directory\n",
      "ERROR:theano.sandbox.cuda:Failed to compile cuda_ndarray.cu: libcublas.so.7.0: cannot open shared object file: No such file or directory\n",
      "WARNING (theano.sandbox.cuda): CUDA is installed, but device gpu is not available  (error: cuda unavilable)\n",
      "WARNING:theano.sandbox.cuda:CUDA is installed, but device gpu is not available  (error: cuda unavilable)\n"
     ]
    },
    {
     "name": "stdout",
     "output_type": "stream",
     "text": [
      "Couldn't import dot_parser, loading of dot files will not be possible.\n"
     ]
    }
   ],
   "source": [
    "# some always important inputs\n",
    "import sys\n",
    "import os\n",
    "import random\n",
    "import time\n",
    "import numpy as np\n",
    "import cPickle\n",
    "#import PIL\n",
    "\n",
    "# the underlying convRBM implementation\n",
    "sys.path.append(os.path.abspath('../code'))\n",
    "from convRBM import CRBM\n",
    "import getData as dataRead\n",
    "\n",
    "# plotting and data handling\n",
    "import matplotlib.pyplot as plt\n",
    "from sklearn.cross_validation import train_test_split\n",
    "\n",
    "# the biopython stuff\n",
    "import Bio.SeqIO as sio\n",
    "import Bio.motifs.matrix as mat\n",
    "from Bio.Alphabet import IUPAC\n",
    "from Bio.Seq import Seq\n",
    "from Bio import motifs as mot"
   ]
  },
  {
   "cell_type": "markdown",
   "metadata": {},
   "source": [
    "## Read in the data and a previously trained model\n",
    "This part of the notebook trains a convolutional RBM on the DHS data. This may take a lot of time but only once we trained it, will it be possible to do the visualization of what the model learnt."
   ]
  },
  {
   "cell_type": "code",
   "execution_count": 2,
   "metadata": {
    "collapsed": false
   },
   "outputs": [
    {
     "name": "stdout",
     "output_type": "stream",
     "text": [
      "/home/sasse/ConvolutionalRBM/notebooks\n"
     ]
    }
   ],
   "source": [
    "# read in the model\n",
    "print os.getcwd()\n",
    "learner = CRBM(file_name='../code/models/trainedModel_2016_01_21_18_38.pkl.zip')"
   ]
  },
  {
   "cell_type": "code",
   "execution_count": 3,
   "metadata": {
    "collapsed": false
   },
   "outputs": [
    {
     "name": "stdout",
     "output_type": "stream",
     "text": [
      "[[[ 3.61617422  0.3700799  -3.51040101 -3.61827779 -0.80255365  1.83505249\n",
      "   -0.79525632  3.01747155  5.0456686   3.40439367 -5.36589384]\n",
      "  [-0.29552749  0.06160342  0.95461416 -0.23634036  3.7082417  -0.8470118\n",
      "   -0.60025442  3.05720234  0.27464986 -2.11540771  4.28637791]\n",
      "  [ 4.82664776 -2.63447213 -0.04021962  3.0190804  -1.01447284 -0.91285294\n",
      "    4.31682587 -0.05850805  0.69043595  0.2423842  -0.9292146 ]\n",
      "  [-5.36404228  3.46562243  4.20862675  2.27952385 -0.58718061  1.69909179\n",
      "   -0.70237225 -3.54567504 -3.81795883  0.22860733  3.25641632]]]\n"
     ]
    }
   ],
   "source": [
    "print learner.motifs.get_value()[0]"
   ]
  },
  {
   "cell_type": "markdown",
   "metadata": {},
   "source": [
    "### Some basic funcions to get motifs from the matrices"
   ]
  },
  {
   "cell_type": "code",
   "execution_count": 4,
   "metadata": {
    "collapsed": true
   },
   "outputs": [],
   "source": [
    "def getLetterToInt (num):\n",
    "    if num == 0:\n",
    "        return 'A'\n",
    "    elif num == 1:\n",
    "        return 'C'\n",
    "    elif num == 2:\n",
    "        return 'G'\n",
    "    elif num == 3:\n",
    "        return 'T'\n",
    "    else:\n",
    "        print 'ERROR: Num ' + str(num) + \" not a valid char in DNA alphabet\"\n",
    "        return -1\n",
    "\n",
    "def createMotifFromMatrix (matrix, alphabet=IUPAC.unambiguous_dna):\n",
    "    assert matrix.shape[0] == 4\n",
    "    \n",
    "    # transform the matrix such that the log odds are taken away\n",
    "    # matrix_ij = log(foreground/background) <=> log(foreground) - log(background)\n",
    "    psm = matrix + np.log(0.25) # 0.25 if we treat all letters as equally probable\n",
    "    psm = np.exp(psm)\n",
    "    psm = psm / psm.sum(axis=1, keepdims=True)\n",
    "    \n",
    "    # make this matrix a valid motif\n",
    "    counts = {}\n",
    "    for row in range(4):\n",
    "        counts[getLetterToInt(row)] = (psm[row]).tolist()\n",
    "    motif = mot.Motif(alphabet=alphabet, instances=None, counts=counts)\n",
    "    return motif\n",
    "\n",
    "\n",
    "def weblogo(motif, file_format=\"png\", version=\"2.8.2\", **kwds): \n",
    "    from Bio._py3k import urlopen, urlencode, Request \n",
    "    frequencies = motif.format('transfac') \n",
    "    url = 'http://weblogo.threeplusone.com/create.cgi' \n",
    "    values = {'sequences': frequencies, \n",
    "                    'format': file_format.lower(), \n",
    "                    'stack_width': 'medium', \n",
    "                    'stack_per_line': '40', \n",
    "                    'alphabet': 'alphabet_dna', \n",
    "                    'ignore_lower_case': True, \n",
    "                    'unit_name': \"bits\", \n",
    "                    'first_index': '1', \n",
    "                    'logo_start': '1', \n",
    "                    'logo_end': str(motif.length), \n",
    "                    'composition': \"comp_auto\", \n",
    "                    'percentCG': '', \n",
    "                    'scale_width': True, \n",
    "                    'show_errorbars': False, \n",
    "                    'logo_title': '', \n",
    "                    'logo_label': '', \n",
    "                    'show_xaxis': False, \n",
    "                    'xaxis_label': '', \n",
    "                    'show_yaxis': False, \n",
    "                    'yaxis_label': '', \n",
    "                    'yaxis_scale': 'auto', \n",
    "                    'yaxis_tic_interval': '1.0', \n",
    "                    'show_ends': False, \n",
    "                    'show_fineprint': False, \n",
    "                    'color_scheme': 'color_auto', \n",
    "                    'symbols0': '', \n",
    "                    'symbols1': '', \n",
    "                    'symbols2': '', \n",
    "                    'symbols3': '', \n",
    "                    'symbols4': '', \n",
    "                    'color0': '', \n",
    "                    'color1': '', \n",
    "                    'color2': '', \n",
    "                    'color3': '', \n",
    "                    'color4': '', \n",
    "                    } \n",
    "    values.update(dict((k, \"\" if v is False else str(v)) for k, v in kwds.items()))\n",
    "    data = urlencode(values).encode(\"utf-8\")\n",
    "    req = Request(url, data)\n",
    "    response = urlopen(req)\n",
    "    return response\n",
    "\n",
    "\n",
    "def getLogoListFrom4DMatrix(matrix):\n",
    "    images = []\n",
    "    for motifNum in range(matrix.shape[0]):\n",
    "        m = createMotifFromMatrix(matrix[motifNum,0])\n",
    "        reader = weblogo(m)\n",
    "        images.append(plt.imread(reader))\n",
    "    return images\n",
    "\n",
    "import math\n",
    "bestSplit = lambda x: (round(math.sqrt(x)), math.ceil(x / round(math.sqrt(x))))"
   ]
  },
  {
   "cell_type": "code",
   "execution_count": 5,
   "metadata": {
    "collapsed": false
   },
   "outputs": [],
   "source": [
    "# first, get the motifs into single 2D matrices within a list\n",
    "motifs = []\n",
    "M = learner.motifs.get_value()\n",
    "for i in range(0, M.shape[0], 2): # only add positive strands...\n",
    "    motifs.append(M[i,0]) # second dim is 1, so just make it 2D\n",
    "    "
   ]
  },
  {
   "cell_type": "markdown",
   "metadata": {},
   "source": [
    "### To save time and network data, create the images here and plot them later"
   ]
  },
  {
   "cell_type": "code",
   "execution_count": null,
   "metadata": {
    "collapsed": false
   },
   "outputs": [],
   "source": []
  },
  {
   "cell_type": "code",
   "execution_count": null,
   "metadata": {
    "collapsed": false
   },
   "outputs": [],
   "source": []
  },
  {
   "cell_type": "code",
   "execution_count": 6,
   "metadata": {
    "collapsed": false
   },
   "outputs": [
    {
     "name": "stdout",
     "output_type": "stream",
     "text": [
      "{'learning_rate': 1e-05,\n",
      " 'motif_length': 11,\n",
      " 'number_of_motifs': 15,\n",
      " 'pooling_factor': 5}\n",
      "121\n"
     ]
    }
   ],
   "source": [
    "learner.printHyperParams()\n",
    "print len(learner.observers[2].scores)"
   ]
  },
  {
   "cell_type": "markdown",
   "metadata": {
    "collapsed": true
   },
   "source": [
    "## Make a video from the motifs in which we have a subplot of all motifs per frame!\n",
    "For that, we have to find out how we can simply get the image without writing it to disk first.\n",
    "Then, we can use python multimedia capabilities for some nice plotting!"
   ]
  },
  {
   "cell_type": "code",
   "execution_count": null,
   "metadata": {
    "collapsed": false
   },
   "outputs": [
    {
     "name": "stdout",
     "output_type": "stream",
     "text": [
      "Got Logos for Time/Epoch 0\n",
      "Got Logos for Time/Epoch 1"
     ]
    }
   ],
   "source": [
    "# get the logos for all scores during training\n",
    "logosOverTime = []\n",
    "for timeSlice in range(len(learner.observers[2].scores)):\n",
    "    allMotifsPerSlice = learner.observers[2].scores[timeSlice]\n",
    "    logosOverTime.append(getLogoListFrom4DMatrix(allMotifsPerSlice))\n",
    "    print \"Got Logos for Time/Epoch \" + str(timeSlice)"
   ]
  },
  {
   "cell_type": "code",
   "execution_count": 53,
   "metadata": {
    "collapsed": false
   },
   "outputs": [
    {
     "name": "stdout",
     "output_type": "stream",
     "text": [
      "(20, 1, 4, 11)\n",
      "4.0 5.0\n",
      "in init\n",
      "20\n"
     ]
    },
    {
     "name": "stderr",
     "output_type": "stream",
     "text": [
      "/package/ddbtools/python2/2015-11-21/lib/python2.7/site-packages/matplotlib/animation.py:752: UserWarning: MovieWriter ffmpeg unavailable\n",
      "  warnings.warn(\"MovieWriter %s unavailable\" % writer)\n"
     ]
    },
    {
     "ename": "RuntimeError",
     "evalue": "Error creating movie, return code: 1 Try running with --verbose-debug",
     "output_type": "error",
     "traceback": [
      "\u001b[1;31m---------------------------------------------------------------------------\u001b[0m",
      "\u001b[1;31mRuntimeError\u001b[0m                              Traceback (most recent call last)",
      "\u001b[1;32m<ipython-input-53-92fe1b3837fe>\u001b[0m in \u001b[0;36m<module>\u001b[1;34m()\u001b[0m\n\u001b[0;32m     35\u001b[0m                                \u001b[0mframes\u001b[0m\u001b[1;33m=\u001b[0m\u001b[0mlen\u001b[0m\u001b[1;33m(\u001b[0m\u001b[0mlearner\u001b[0m\u001b[1;33m.\u001b[0m\u001b[0mobservers\u001b[0m\u001b[1;33m[\u001b[0m\u001b[1;36m2\u001b[0m\u001b[1;33m]\u001b[0m\u001b[1;33m.\u001b[0m\u001b[0mscores\u001b[0m\u001b[1;33m)\u001b[0m\u001b[1;33m,\u001b[0m\u001b[1;33m\u001b[0m\u001b[0m\n\u001b[0;32m     36\u001b[0m                                interval=20, repeat=True)\n\u001b[1;32m---> 37\u001b[1;33m \u001b[0manim\u001b[0m\u001b[1;33m.\u001b[0m\u001b[0msave\u001b[0m\u001b[1;33m(\u001b[0m\u001b[1;34m'test.mp4'\u001b[0m\u001b[1;33m,\u001b[0m \u001b[0mfps\u001b[0m\u001b[1;33m=\u001b[0m\u001b[1;36m30\u001b[0m\u001b[1;33m,\u001b[0m \u001b[0mextra_args\u001b[0m\u001b[1;33m=\u001b[0m\u001b[1;33m[\u001b[0m\u001b[1;34m'-vcodec'\u001b[0m\u001b[1;33m,\u001b[0m \u001b[1;34m'libx264'\u001b[0m\u001b[1;33m]\u001b[0m\u001b[1;33m)\u001b[0m\u001b[1;33m\u001b[0m\u001b[0m\n\u001b[0m\u001b[0;32m     38\u001b[0m \u001b[1;31m#plt.show()\u001b[0m\u001b[1;33m\u001b[0m\u001b[1;33m\u001b[0m\u001b[0m\n",
      "\u001b[1;32m/package/ddbtools/python2/2015-11-21/lib/python2.7/site-packages/matplotlib/animation.pyc\u001b[0m in \u001b[0;36msave\u001b[1;34m(self, filename, writer, fps, dpi, codec, bitrate, extra_args, metadata, extra_anim, savefig_kwargs)\u001b[0m\n\u001b[0;32m    778\u001b[0m                     \u001b[1;31m# TODO: Need to see if turning off blit is really necessary\u001b[0m\u001b[1;33m\u001b[0m\u001b[1;33m\u001b[0m\u001b[0m\n\u001b[0;32m    779\u001b[0m                     \u001b[0manim\u001b[0m\u001b[1;33m.\u001b[0m\u001b[0m_draw_next_frame\u001b[0m\u001b[1;33m(\u001b[0m\u001b[0md\u001b[0m\u001b[1;33m,\u001b[0m \u001b[0mblit\u001b[0m\u001b[1;33m=\u001b[0m\u001b[0mFalse\u001b[0m\u001b[1;33m)\u001b[0m\u001b[1;33m\u001b[0m\u001b[0m\n\u001b[1;32m--> 780\u001b[1;33m                 \u001b[0mwriter\u001b[0m\u001b[1;33m.\u001b[0m\u001b[0mgrab_frame\u001b[0m\u001b[1;33m(\u001b[0m\u001b[1;33m**\u001b[0m\u001b[0msavefig_kwargs\u001b[0m\u001b[1;33m)\u001b[0m\u001b[1;33m\u001b[0m\u001b[0m\n\u001b[0m\u001b[0;32m    781\u001b[0m \u001b[1;33m\u001b[0m\u001b[0m\n\u001b[0;32m    782\u001b[0m         \u001b[1;31m# Reconnect signal for first draw if necessary\u001b[0m\u001b[1;33m\u001b[0m\u001b[1;33m\u001b[0m\u001b[0m\n",
      "\u001b[1;32m/package/ddbtools/python2/2015-11-21/lib/python2.7/contextlib.pyc\u001b[0m in \u001b[0;36m__exit__\u001b[1;34m(self, type, value, traceback)\u001b[0m\n\u001b[0;32m     22\u001b[0m         \u001b[1;32mif\u001b[0m \u001b[0mtype\u001b[0m \u001b[1;32mis\u001b[0m \u001b[0mNone\u001b[0m\u001b[1;33m:\u001b[0m\u001b[1;33m\u001b[0m\u001b[0m\n\u001b[0;32m     23\u001b[0m             \u001b[1;32mtry\u001b[0m\u001b[1;33m:\u001b[0m\u001b[1;33m\u001b[0m\u001b[0m\n\u001b[1;32m---> 24\u001b[1;33m                 \u001b[0mself\u001b[0m\u001b[1;33m.\u001b[0m\u001b[0mgen\u001b[0m\u001b[1;33m.\u001b[0m\u001b[0mnext\u001b[0m\u001b[1;33m(\u001b[0m\u001b[1;33m)\u001b[0m\u001b[1;33m\u001b[0m\u001b[0m\n\u001b[0m\u001b[0;32m     25\u001b[0m             \u001b[1;32mexcept\u001b[0m \u001b[0mStopIteration\u001b[0m\u001b[1;33m:\u001b[0m\u001b[1;33m\u001b[0m\u001b[0m\n\u001b[0;32m     26\u001b[0m                 \u001b[1;32mreturn\u001b[0m\u001b[1;33m\u001b[0m\u001b[0m\n",
      "\u001b[1;32m/package/ddbtools/python2/2015-11-21/lib/python2.7/site-packages/matplotlib/animation.pyc\u001b[0m in \u001b[0;36msaving\u001b[1;34m(self, *args)\u001b[0m\n\u001b[0;32m    189\u001b[0m         \u001b[0mself\u001b[0m\u001b[1;33m.\u001b[0m\u001b[0msetup\u001b[0m\u001b[1;33m(\u001b[0m\u001b[1;33m*\u001b[0m\u001b[0margs\u001b[0m\u001b[1;33m)\u001b[0m\u001b[1;33m\u001b[0m\u001b[0m\n\u001b[0;32m    190\u001b[0m         \u001b[1;32myield\u001b[0m\u001b[1;33m\u001b[0m\u001b[0m\n\u001b[1;32m--> 191\u001b[1;33m         \u001b[0mself\u001b[0m\u001b[1;33m.\u001b[0m\u001b[0mfinish\u001b[0m\u001b[1;33m(\u001b[0m\u001b[1;33m)\u001b[0m\u001b[1;33m\u001b[0m\u001b[0m\n\u001b[0m\u001b[0;32m    192\u001b[0m \u001b[1;33m\u001b[0m\u001b[0m\n\u001b[0;32m    193\u001b[0m     \u001b[1;32mdef\u001b[0m \u001b[0m_run\u001b[0m\u001b[1;33m(\u001b[0m\u001b[0mself\u001b[0m\u001b[1;33m)\u001b[0m\u001b[1;33m:\u001b[0m\u001b[1;33m\u001b[0m\u001b[0m\n",
      "\u001b[1;32m/package/ddbtools/python2/2015-11-21/lib/python2.7/site-packages/matplotlib/animation.pyc\u001b[0m in \u001b[0;36mfinish\u001b[1;34m(self)\u001b[0m\n\u001b[0;32m    380\u001b[0m             raise RuntimeError('Error creating movie, return code: '\n\u001b[0;32m    381\u001b[0m                                \u001b[1;33m+\u001b[0m \u001b[0mstr\u001b[0m\u001b[1;33m(\u001b[0m\u001b[0mself\u001b[0m\u001b[1;33m.\u001b[0m\u001b[0m_proc\u001b[0m\u001b[1;33m.\u001b[0m\u001b[0mreturncode\u001b[0m\u001b[1;33m)\u001b[0m\u001b[1;33m\u001b[0m\u001b[0m\n\u001b[1;32m--> 382\u001b[1;33m                                + ' Try running with --verbose-debug')\n\u001b[0m\u001b[0;32m    383\u001b[0m \u001b[1;33m\u001b[0m\u001b[0m\n\u001b[0;32m    384\u001b[0m     \u001b[1;32mdef\u001b[0m \u001b[0mcleanup\u001b[0m\u001b[1;33m(\u001b[0m\u001b[0mself\u001b[0m\u001b[1;33m)\u001b[0m\u001b[1;33m:\u001b[0m\u001b[1;33m\u001b[0m\u001b[0m\n",
      "\u001b[1;31mRuntimeError\u001b[0m: Error creating movie, return code: 1 Try running with --verbose-debug"
     ]
    }
   ],
   "source": [
    "from matplotlib import animation\n",
    "\n",
    "fig = plt.figure(figsize=(30,13))\n",
    "fig.subplots_adjust(left=0, right=1, bottom=0, top=1, hspace=0, wspace=0)\n",
    "frame_text = fig.text(0.95, 0.95,\n",
    "                      'Epoch: ' + str(0),\n",
    "                      verticalalignment='bottom',\n",
    "                      horizontalalignment='right',\n",
    "                      color='green', fontsize=30)\n",
    "allMotifsOverTime = learner.observers[2].scores\n",
    "print allMotifsOverTime[0].shape\n",
    "\n",
    "x, y = bestSplit(allMotifsOverTime[0].shape[0])\n",
    "print x, y\n",
    "axesList = []\n",
    "\n",
    "def init():\n",
    "    print \"in init\"\n",
    "    for i in range(allMotifsOverTime[0].shape[0]):\n",
    "        ax = fig.add_subplot(x, y, i+1, xticks=[], yticks=[])\n",
    "        im = ax.imshow(logosOverTime[0][i])\n",
    "        axesList.append(im)\n",
    "    print len(axesList)\n",
    "        \n",
    "def printFrame(frameNr):\n",
    "    numMotifs = allMotifsOverTime[frameNr].shape[0]\n",
    "    for motif in range(numMotifs):\n",
    "        axesList[motif].set_data(logosOverTime[frameNr][motif])\n",
    "        #ax.imshow(logosOverTime[frameNr][motif])\n",
    "    frame_text.set_text('Epoch: ' + str(frameNr))\n",
    "\n",
    "anim = animation.FuncAnimation(fig,\n",
    "                               printFrame,\n",
    "                               init_func=init,\n",
    "                               frames=len(learner.observers[2].scores),\n",
    "                               interval=20, repeat=True)\n",
    "#anim.save('test.mp4', fps=30, extra_args=['-vcodec', 'libx264'])\n",
    "plt.show()"
   ]
  },
  {
   "cell_type": "code",
   "execution_count": null,
   "metadata": {
    "collapsed": false
   },
   "outputs": [],
   "source": []
  },
  {
   "cell_type": "code",
   "execution_count": null,
   "metadata": {
    "collapsed": true
   },
   "outputs": [],
   "source": []
  }
 ],
 "metadata": {
  "kernelspec": {
   "display_name": "Python 2",
   "language": "python",
   "name": "python2"
  },
  "language_info": {
   "codemirror_mode": {
    "name": "ipython",
    "version": 2
   },
   "file_extension": ".py",
   "mimetype": "text/x-python",
   "name": "python",
   "nbconvert_exporter": "python",
   "pygments_lexer": "ipython2",
   "version": "2.7.10"
  }
 },
 "nbformat": 4,
 "nbformat_minor": 0
}
