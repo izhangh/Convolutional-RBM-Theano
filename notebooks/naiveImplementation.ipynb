{
 "cells": [
  {
   "cell_type": "markdown",
   "metadata": {},
   "source": [
    "# This notebook will implement a naive implementation\n",
    "This is for debugging purposes only, to see if the GPU implementation is correct or not."
   ]
  },
  {
   "cell_type": "code",
   "execution_count": 2,
   "metadata": {
    "collapsed": false
   },
   "outputs": [],
   "source": [
    "# Imports\n",
    "import sys\n",
    "import os\n",
    "import random\n",
    "import time\n",
    "import numpy as np\n",
    "\n",
    "# the underlying convRBM implementation\n",
    "sys.path.append(os.path.abspath('../code'))\n",
    "#from convRBM import CRBM\n",
    "import getData as dataRead\n",
    "\n",
    "# biopython stuff\n",
    "#import Bio.SeqIO as sio\n",
    "#import Bio.motifs.matrix as mat\n",
    "from Bio.Alphabet import IUPAC\n",
    "from Bio.Seq import Seq\n",
    "#from Bio import motifs"
   ]
  },
  {
   "cell_type": "code",
   "execution_count": 52,
   "metadata": {
    "collapsed": false
   },
   "outputs": [],
   "source": [
    "class NaiveCRBM:\n",
    "\n",
    "    def __init__ (self, motifLength=1, numMotifs=1, learningRate=0.1, poolingFactor=1):\n",
    "        self.numberOfKernels = numMotifs\n",
    "        self.kernelLength = motifLength\n",
    "        self.setParamsToZero = True\n",
    "        if self.setParamsToZero:\n",
    "            self.kernels = np.zeros((self.numberOfKernels, 1, 4, self.kernelLength))\n",
    "            self.bias = np.zeros(self.numberOfKernels)\n",
    "        else:\n",
    "            self.kernels = np.random.rand(self.numberOfKernels, 1, 4, self.kernelLength)\n",
    "            self.bias = np.random.rand(self.numberOfKernels)\n",
    "    \n",
    "    def setCustomKernels (self, kernels):\n",
    "        self.numberOfKernels = kernels.shape[0]\n",
    "        self.kernelLength = kernels.shape[3]\n",
    "        self.kernels = kernels\n",
    "        if self.setParamsToZero:\n",
    "            self.bias = np.zeros(self.numberOfKernels)\n",
    "        else:\n",
    "            self.bias = np.random.rand(self.numberOfKernels)\n",
    "\n",
    "    def initializeMotifs (self):\n",
    "        pass\n",
    "        \n",
    "    def complement (self, kernelSlice):\n",
    "        return kernelSlice[::-1]\n",
    "\n",
    "    def forwardBatch (self, data):\n",
    "        H = np.zeros((data.shape[0], self.numberOfKernels, 1, data.shape[3]-self.kernelLength+1))\n",
    "        for sample in range(data.shape[0]):\n",
    "            for k in range(self.numberOfKernels):\n",
    "                for n in range(data.shape[3]-self.kernelLength+1):\n",
    "                    for m in range(self.kernelLength):\n",
    "                        print \"Sample: \" + str(sample) + \" k: \" + str(k) + \" n: \" + str(n) + \" m: \" + str(m)\n",
    "                        # calculate the x_i, that is the convolution\n",
    "                        print \"Data: \" + str(data[sample, 0, :, n+m]) + \" -> Kernel: \" + str(self.kernels[k,0,:,m])\n",
    "                        x = data[sample,0,:,n+m].T.dot(self.kernels[k,0,:,m]) + self.bias[k]\n",
    "                        print \"result = \" + str(x)\n",
    "                        cKernel = self.complement(self.kernels[k,0,:,self.kernelLength-m-1])\n",
    "                        x_prime = data[sample,0,:,n+m].T.dot(cKernel) + self.bias[k]\n",
    "                        H[sample, k, 0, n] += x # + x_prime\n",
    "        print H\n",
    "\n",
    "\n",
    "    def backwardBatch (self, H_sample):\n",
    "        pass\n",
    "\n",
    "\n",
    "    def expectedDerivative (self, hiddenProbs, data):\n",
    "        pass\n",
    "    \n",
    "    \n",
    "    def trainMinibatch (self, trainData, epochs, batchSize, numOfCDs):\n",
    "        iterations = trainData.shape[0] / batchSize\n",
    "        for epoch in range(epochs):\n",
    "            pass"
   ]
  },
  {
   "cell_type": "markdown",
   "metadata": {},
   "source": [
    "## Construct the data"
   ]
  },
  {
   "cell_type": "code",
   "execution_count": 53,
   "metadata": {
    "collapsed": false
   },
   "outputs": [
    {
     "name": "stdout",
     "output_type": "stream",
     "text": [
      "Kernel: [[[[1 0 0]\n",
      "   [0 1 0]\n",
      "   [0 0 1]\n",
      "   [0 0 0]]]]\n",
      "Data shape: (1, 1, 4, 8)\n",
      "[[[[ 1.  0.  0.  0.  0.  0.  0.  0.]\n",
      "   [ 0.  1.  0.  0.  0.  0.  0.  0.]\n",
      "   [ 0.  0.  1.  0.  1.  1.  1.  1.]\n",
      "   [ 0.  0.  0.  1.  0.  0.  0.  0.]]]]\n",
      "Sample: 0 k: 0 n: 0 m: 0\n",
      "Data: [ 1.  0.  0.  0.] -> Kernel: [1 0 0 0]\n",
      "result = 1.0\n",
      "Sample: 0 k: 0 n: 0 m: 1\n",
      "Data: [ 0.  1.  0.  0.] -> Kernel: [0 1 0 0]\n",
      "result = 1.0\n",
      "Sample: 0 k: 0 n: 0 m: 2\n",
      "Data: [ 0.  0.  1.  0.] -> Kernel: [0 0 1 0]\n",
      "result = 1.0\n",
      "Sample: 0 k: 0 n: 1 m: 0\n",
      "Data: [ 0.  1.  0.  0.] -> Kernel: [1 0 0 0]\n",
      "result = 0.0\n",
      "Sample: 0 k: 0 n: 1 m: 1\n",
      "Data: [ 0.  0.  1.  0.] -> Kernel: [0 1 0 0]\n",
      "result = 0.0\n",
      "Sample: 0 k: 0 n: 1 m: 2\n",
      "Data: [ 0.  0.  0.  1.] -> Kernel: [0 0 1 0]\n",
      "result = 0.0\n",
      "Sample: 0 k: 0 n: 2 m: 0\n",
      "Data: [ 0.  0.  1.  0.] -> Kernel: [1 0 0 0]\n",
      "result = 0.0\n",
      "Sample: 0 k: 0 n: 2 m: 1\n",
      "Data: [ 0.  0.  0.  1.] -> Kernel: [0 1 0 0]\n",
      "result = 0.0\n",
      "Sample: 0 k: 0 n: 2 m: 2\n",
      "Data: [ 0.  0.  1.  0.] -> Kernel: [0 0 1 0]\n",
      "result = 1.0\n",
      "Sample: 0 k: 0 n: 3 m: 0\n",
      "Data: [ 0.  0.  0.  1.] -> Kernel: [1 0 0 0]\n",
      "result = 0.0\n",
      "Sample: 0 k: 0 n: 3 m: 1\n",
      "Data: [ 0.  0.  1.  0.] -> Kernel: [0 1 0 0]\n",
      "result = 0.0\n",
      "Sample: 0 k: 0 n: 3 m: 2\n",
      "Data: [ 0.  0.  1.  0.] -> Kernel: [0 0 1 0]\n",
      "result = 1.0\n",
      "Sample: 0 k: 0 n: 4 m: 0\n",
      "Data: [ 0.  0.  1.  0.] -> Kernel: [1 0 0 0]\n",
      "result = 0.0\n",
      "Sample: 0 k: 0 n: 4 m: 1\n",
      "Data: [ 0.  0.  1.  0.] -> Kernel: [0 1 0 0]\n",
      "result = 0.0\n",
      "Sample: 0 k: 0 n: 4 m: 2\n",
      "Data: [ 0.  0.  1.  0.] -> Kernel: [0 0 1 0]\n",
      "result = 1.0\n",
      "Sample: 0 k: 0 n: 5 m: 0\n",
      "Data: [ 0.  0.  1.  0.] -> Kernel: [1 0 0 0]\n",
      "result = 0.0\n",
      "Sample: 0 k: 0 n: 5 m: 1\n",
      "Data: [ 0.  0.  1.  0.] -> Kernel: [0 1 0 0]\n",
      "result = 0.0\n",
      "Sample: 0 k: 0 n: 5 m: 2\n",
      "Data: [ 0.  0.  1.  0.] -> Kernel: [0 0 1 0]\n",
      "result = 1.0\n",
      "[[[[ 3.  0.  1.  1.  1.  1.]]]]\n"
     ]
    }
   ],
   "source": [
    "#initialize the learner and set custom kernels\n",
    "naiveModel = NaiveCRBM(motifLength=3, numMotifs=2, learningRate=0.1, poolingFactor=1)\n",
    "\n",
    "# design data\n",
    "#print \"Motifs:\"\n",
    "#print x.motifs.get_value()\n",
    "kernel1 = np.tile(np.array([[1,0,0],[0,1,0],[0,0,1],[0,0,0]]), [1,1,1])\n",
    "kernel1_ = np.tile(np.flipud(np.fliplr(kernel1[0])),[1,1,1])\n",
    "kernel2 = np.tile(np.array([[0,0,0],[0,0,0],[1,1,1],[0,0,0]]), [1,1,1])\n",
    "kernel2_ = np.tile(np.flipud(np.fliplr(kernel2[0])), [1,1,1])\n",
    "kernel3 = np.random.rand(1,4,3)\n",
    "kernel3_ = np.tile(np.flipud(np.fliplr(kernel3[0])), [1,1,1])\n",
    "kernel = np.array([kernel1])#, kernel2, kernel2_, kernel3, kernel3_])\n",
    "#kernel = np.array([kernel3, kernel3_])\n",
    "print \"Kernel: \" + str(kernel)\n",
    "\n",
    "# initialize the data\n",
    "randSeq1 = dataRead.getOneHotMatrixFromSeq(Seq(\"ACGTGGGG\", IUPAC.unambiguous_dna))\n",
    "randSeq2 = dataRead.getOneHotMatrixFromSeq(Seq(\"ACGTACGT\", IUPAC.unambiguous_dna))\n",
    "data = np.array([randSeq1], dtype=np.float32)\n",
    "print \"Data shape: \" + str(data.shape)\n",
    "print data\n",
    "\n",
    "# perform forward pass\n",
    "naiveModel.setCustomKernels(kernel)\n",
    "naiveModel.forwardBatch(data)"
   ]
  },
  {
   "cell_type": "code",
   "execution_count": null,
   "metadata": {
    "collapsed": true
   },
   "outputs": [],
   "source": []
  },
  {
   "cell_type": "code",
   "execution_count": null,
   "metadata": {
    "collapsed": true
   },
   "outputs": [],
   "source": []
  }
 ],
 "metadata": {
  "kernelspec": {
   "display_name": "Python 2",
   "language": "python",
   "name": "python2"
  },
  "language_info": {
   "codemirror_mode": {
    "name": "ipython",
    "version": 2
   },
   "file_extension": ".py",
   "mimetype": "text/x-python",
   "name": "python",
   "nbconvert_exporter": "python",
   "pygments_lexer": "ipython2",
   "version": "2.7.10"
  }
 },
 "nbformat": 4,
 "nbformat_minor": 0
}
