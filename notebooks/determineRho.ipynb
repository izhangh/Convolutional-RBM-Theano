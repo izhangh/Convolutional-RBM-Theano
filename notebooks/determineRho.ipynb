{
 "cells": [
  {
   "cell_type": "markdown",
   "metadata": {},
   "source": [
    "# Determine the target sparsity in H analytically\n",
    "This way, we can set initial parameters in a more sensible way."
   ]
  },
  {
   "cell_type": "code",
   "execution_count": 137,
   "metadata": {
    "collapsed": false
   },
   "outputs": [
    {
     "name": "stdout",
     "output_type": "stream",
     "text": [
      "Proportion of elements in H > 0: 0.009\n"
     ]
    }
   ],
   "source": [
    "import numpy as np\n",
    "from scipy.stats import norm\n",
    "from scipy.signal import convolve2d\n",
    "np.set_printoptions(precision=4, suppress=True)\n",
    "\n",
    "rho = 0.005\n",
    "M = 15\n",
    "seqLength = M\n",
    "D = np.zeros((4, seqLength))\n",
    "for i in range(seqLength):\n",
    "    D[:,i] = np.random.multinomial(n=1, pvals=[0.25]*4)\n",
    "\n",
    "iterations = 1000\n",
    "totalSum = 0.\n",
    "for i in range(iterations):\n",
    "    test = np.random.randn(4, M)\n",
    "    b = np.zeros(1) + norm.ppf(rho, 0, np.sqrt(M))\n",
    "    C = convolve2d(D, test[::-1,::-1], mode='valid')\n",
    "    C = C + b\n",
    "    totalSum += np.sum(C > 0) / float(np.prod(C.shape))\n",
    "print \"Proportion of elements in H > 0: \" +str(totalSum / iterations)"
   ]
  },
  {
   "cell_type": "code",
   "execution_count": 149,
   "metadata": {
    "collapsed": false
   },
   "outputs": [
    {
     "name": "stdout",
     "output_type": "stream",
     "text": [
      "rho: 0.005\n",
      "Move mean by: -7.72748791065\n",
      "Percent of population > 0: 0.555555555556\n",
      "Percent of population + bias > 0: 0.0\n",
      "Result from conv\n",
      "Percent of H (before bias) > 0: 0.632452981192\n",
      "Percent of H (before pooling) > 0: 0.00535214085634\n"
     ]
    }
   ],
   "source": [
    "rho = 0.005\n",
    "M = 9\n",
    "print \"rho: \" + str(rho)\n",
    "test = np.random.randn(4, M)\n",
    "b = np.zeros(1) + scipy.stats.norm.ppf(rho, 0, np.sqrt(M))\n",
    "print \"Move mean by: \" + str(b[0])\n",
    "print \"Percent of population > 0: \" + str(float(np.sum(test > 0)) / float(np.prod(test.shape)))\n",
    "print \"Percent of population + bias > 0: \" + str(float(np.sum((test+b) > 0)) / float(np.prod(test.shape)))\n",
    "\n",
    "seqLength = 20000\n",
    "D = np.zeros((4, seqLength))\n",
    "for i in range(seqLength):\n",
    "    D[:,i] = np.random.multinomial(n=1, pvals=[0.25]*4)\n",
    "\n",
    "C = scipy.signal.convolve2d(D[::-1,::-1], test, mode='valid')\n",
    "print \"Result from conv\"\n",
    "\n",
    "print \"Percent of H (before bias) > 0: \" + str(np.sum(C > 0) / float(np.prod(C.shape)))\n",
    "C = C + b\n",
    "print \"Percent of H (before pooling) > 0: \" + str(np.sum(C > 0) / float(np.prod(C.shape)))"
   ]
  },
  {
   "cell_type": "code",
   "execution_count": 150,
   "metadata": {
    "collapsed": false
   },
   "outputs": [
    {
     "name": "stdout",
     "output_type": "stream",
     "text": [
      "0.999939352482\n",
      "6.06475178583e-05\n",
      "Proportion where noact is greater than act: 0.994647859144\n",
      "Percent of samples that activate: 0.0235594237695\n"
     ]
    }
   ],
   "source": [
    "C_e = np.exp(C)\n",
    "noAct = 1./ (1 + C_e)\n",
    "act = C_e / (1 + C_e)\n",
    "\n",
    "print noAct[0,0]\n",
    "print act[0,0]\n",
    "pos = noAct - act\n",
    "print \"Proportion where noact is greater than act: \" + str(np.sum(pos > 0) / float(np.prod(C.shape)))\n",
    "multinomial = np.concatenate((noAct, act), axis=0)\n",
    "\n",
    "sample = np.zeros_like(multinomial)\n",
    "for i in range(multinomial.shape[1]):\n",
    "    s = np.random.multinomial(n=1, pvals=multinomial[:,i])\n",
    "    sample[np.argmax(s), i] = 1\n",
    "\n",
    "print \"Percent of samples that activate: \" + str(np.sum(sample[1,:]) / sample.shape[1])"
   ]
  },
  {
   "cell_type": "code",
   "execution_count": null,
   "metadata": {
    "collapsed": false
   },
   "outputs": [],
   "source": []
  },
  {
   "cell_type": "code",
   "execution_count": null,
   "metadata": {
    "collapsed": true
   },
   "outputs": [],
   "source": []
  }
 ],
 "metadata": {
  "kernelspec": {
   "display_name": "Python 2",
   "language": "python",
   "name": "python2"
  },
  "language_info": {
   "codemirror_mode": {
    "name": "ipython",
    "version": 2
   },
   "file_extension": ".py",
   "mimetype": "text/x-python",
   "name": "python",
   "nbconvert_exporter": "python",
   "pygments_lexer": "ipython2",
   "version": "2.7.11"
  }
 },
 "nbformat": 4,
 "nbformat_minor": 0
}
